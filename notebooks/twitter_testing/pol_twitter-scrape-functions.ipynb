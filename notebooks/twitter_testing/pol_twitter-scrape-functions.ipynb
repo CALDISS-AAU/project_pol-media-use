{
 "cells": [
  {
   "cell_type": "markdown",
   "metadata": {},
   "source": [
    "# Scrape af Twitter-profiler"
   ]
  },
  {
   "cell_type": "code",
   "execution_count": 67,
   "metadata": {},
   "outputs": [],
   "source": [
    "import pandas as pd\n",
    "import twint\n",
    "import nest_asyncio \n",
    "import datetime\n",
    "import os\n",
    "nest_asyncio.apply()\n",
    "\n",
    "import logging\n",
    "\n",
    "logger = logging.getLogger(__name__)"
   ]
  },
  {
   "cell_type": "code",
   "execution_count": 68,
   "metadata": {},
   "outputs": [],
   "source": [
    "twitter_profiles = ['JosephineFock', 'TorstenGejl', 'Kristianthdahl', 'MrMesserschmidt', 'LiseBech', 'SorenPape', \n",
    "                    'metteabildgaard', 'orlaosterby', 'PSkipperEL', 'MaiVilladsen', 'pederhvelplund', 'AlexVanopslagh', \n",
    "                    'olebirkolesen', 'oestergaard', 'IdaAuken', 'stinuslindgreen', 'PiaOlsen', 'signe_munk', 'JakobEllemann', \n",
    "                    'aahlers', 'kimvalentinDK', 'MogensJensenS', 'DanJoergensen', 'Paulin_Anne', 'Rstoklund', \n",
    "                    'Isabella Arendt', 'ammitzbollbille']\n",
    "\n",
    "tweet_columns = ['id', 'conversation_id', 'created_at', 'date', 'time', 'timezone', 'user_id', 'username', 'name', \n",
    "                         'place', 'tweet', 'urls', 'replies_count', 'retweets_count', 'likes_count', 'hashtags', 'link', \n",
    "                         'retweet', 'user_rt_id', 'user_rt', 'retweet_id', 'reply_to', 'retweet_date']"
   ]
  },
  {
   "cell_type": "code",
   "execution_count": 69,
   "metadata": {},
   "outputs": [],
   "source": [
    "def scrape_user(profile, date, datadir, columns):\n",
    "    filename = profile + '.csv'\n",
    "    dt_now = datetime.datetime.now().strftime(\"%b %d %Y %H:%M\")\n",
    "    \n",
    "    c = twint.Config()\n",
    "    c.Username = profile\n",
    "    c.Since = date\n",
    "    c.Store_csv = True\n",
    "    c.Hide_output = True\n",
    "    c.Custom['tweet'] = columns\n",
    "    c.Output = datadir + filename\n",
    "    \n",
    "    print(\"{time}: Running scrape for {user}\".format(time = dt_now, user = profile))\n",
    "    logger.info(\"{time}: Running scrape for {user}\".format(time = dt_now, user = profile))\n",
    "    twint.run.Search(c)"
   ]
  },
  {
   "cell_type": "code",
   "execution_count": 70,
   "metadata": {},
   "outputs": [],
   "source": [
    "def newline_fix(tweet):\n",
    "    new_tweet = tweet.replace('\\n', ' ')\n",
    "    return(new_tweet)\n",
    "\n",
    "def import_tweets(profile, datadir):\n",
    "    filename = datadir + profile + '.csv'\n",
    "    \n",
    "    tweets = pd.read_csv(filename)\n",
    "    tweets['tweet'] = tweets['tweet'].map(newline_fix)\n",
    "    \n",
    "    return(tweets)"
   ]
  },
  {
   "cell_type": "code",
   "execution_count": 71,
   "metadata": {},
   "outputs": [],
   "source": [
    "def combine_tweets(twitter_profiles, tweet_columns, datadir):\n",
    "    tweets_all = pd.DataFrame(columns = tweet_columns)\n",
    "    \n",
    "    for profile in twitter_profiles:\n",
    "        try:\n",
    "            tweets = import_tweets(profile, datadir)\n",
    "            tweets_all = tweets_all.append(tweets, ignore_index = True)\n",
    "        except IOError:\n",
    "            logger.warning(\"No data file for {profile}\".format(profile = profile))\n",
    "            \n",
    "        \n",
    "    return(tweets_all)"
   ]
  },
  {
   "cell_type": "code",
   "execution_count": 133,
   "metadata": {},
   "outputs": [],
   "source": [
    "def update_tweets_data(twitter_profiles, tweet_columns, datadir):\n",
    "    dt_now = datetime.datetime.now().strftime(\"%b %d %Y %H:%M\")\n",
    "    logger.info(\"{dt_now}: Updating twitter data...\".format(dt_now = dt_now))\n",
    "    \n",
    "    if not os.path.isdir(datadir):\n",
    "        os.mkdir(datadir)\n",
    "    \n",
    "    run_date_default = \"2020-01-01\"\n",
    "    \n",
    "    try:\n",
    "        with open(datadir + 'last_run_date.txt', 'r') as f:\n",
    "            run_date = f.readline()\n",
    "            f.close()\n",
    "    except IOError:\n",
    "        logger.warning(\"No existing log for last run time. Using default ({run_date})\".format(run_date = run_date_default))\n",
    "        run_date = run_date_default\n",
    "        \n",
    "    date_today = str(datetime.date.today())\n",
    "    \n",
    "    logger.info(\"Scraping profiles...\")\n",
    "    if date_today != run_date:\n",
    "        for profile in twitter_profiles:\n",
    "            scrape_user(profile, run_date, datadir, tweet_columns)\n",
    "    \n",
    "    logger.info(\"Combining data...\")\n",
    "    tweets_all_df = combine_tweets(twitter_profiles, tweet_columns, datadir)\n",
    "    \n",
    "    logger.info(\"Exporting data...\")\n",
    "    filename = \"pol_tweets.csv\"\n",
    "    \n",
    "    try:\n",
    "        tweets_cache = pd.read_csv(datadir + filename)\n",
    "        tweets_all_df = tweets_cache.append(tweets_all_df, ignore_index = True)\n",
    "        tweets_all_df.drop_duplicates(inplace = True)\n",
    "        tweets_all_df.to_csv(datadir + filename, index = False)\n",
    "    except IOError:\n",
    "        logger.warning(\"No cache file for tweets found. Creating new data file...\")\n",
    "        tweets_all_df.drop_duplicates(inplace = True)\n",
    "        tweets_all_df.to_csv(datadir + filename, index = False)\n",
    "    \n",
    "    logger.info(\"Removing temporary data files...\")\n",
    "    for profile in twitter_profiles:\n",
    "        try:\n",
    "            os.remove(datadir + profile + \".csv\")\n",
    "        except IOError:\n",
    "            continue\n",
    "        \n",
    "    \n",
    "    with open(datadir + 'last_run_date.txt', 'w') as f:\n",
    "        f.write(date_today)\n",
    "        \n",
    "    logger.info(\"Update complete!\")"
   ]
  }
 ],
 "metadata": {
  "kernelspec": {
   "display_name": "Python 3",
   "language": "python",
   "name": "python3"
  },
  "language_info": {
   "codemirror_mode": {
    "name": "ipython",
    "version": 3
   },
   "file_extension": ".py",
   "mimetype": "text/x-python",
   "name": "python",
   "nbconvert_exporter": "python",
   "pygments_lexer": "ipython3",
   "version": "3.7.4"
  }
 },
 "nbformat": 4,
 "nbformat_minor": 2
}
