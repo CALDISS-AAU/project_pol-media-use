{
 "cells": [
  {
   "cell_type": "markdown",
   "metadata": {},
   "source": [
    "# Scrape af Twitter-profiler\n",
    "\n",
    "Twitter-profiler kan scrapes ved brug af værktøjet/pakken `twint`.\n",
    "\n",
    "I det følgende hentes tweets fra den sidste måned fra Jeppe Kofod (https://twitter.com/JeppeKofod) og Ane Halsboe (https://twitter.com/AneHalsboe). "
   ]
  },
  {
   "cell_type": "code",
   "execution_count": 2,
   "metadata": {},
   "outputs": [],
   "source": [
    "import pandas as pd\n",
    "import twint\n",
    "import nest_asyncio \n",
    "nest_asyncio.apply()"
   ]
  },
  {
   "cell_type": "markdown",
   "metadata": {},
   "source": [
    "### Jeppe Kofod"
   ]
  },
  {
   "cell_type": "code",
   "execution_count": null,
   "metadata": {},
   "outputs": [],
   "source": [
    "c = twint.Config()\n",
    "c.Username = \"JeppeKofod\"\n",
    "c.Since = \"2020-02-26\"\n",
    "c.Store_csv = True\n",
    "c.Hide_output = True\n",
    "c.Custom['tweet'] = ['id', 'conversation_id', 'created_at', 'date', 'time', 'timezone', 'user_id', 'username', 'name', 'place',\n",
    "                     'tweet', 'urls', 'replies_count', 'retweets_count', 'likes_count', 'hashtags', 'link', 'retweet',\n",
    "                     'user_rt_id', 'user_rt', 'retweet_id', 'reply_to', 'retweet_date']\n",
    "c.Output = \"user_tweets.csv\""
   ]
  },
  {
   "cell_type": "code",
   "execution_count": null,
   "metadata": {},
   "outputs": [],
   "source": [
    "twint.run.Search(c)"
   ]
  },
  {
   "cell_type": "code",
   "execution_count": null,
   "metadata": {},
   "outputs": [],
   "source": [
    "tweets = pd.read_csv('user_tweets.csv')\n",
    "\n",
    "def newline_fix(tweet):\n",
    "    new_tweet = tweet.replace('\\n', ' ')\n",
    "    return(new_tweet)\n",
    "\n",
    "tweets['tweet'] = tweets['tweet'].map(newline_fix)\n",
    "\n",
    "tweets.to_csv(\"jkofod_tweets.csv\")"
   ]
  },
  {
   "cell_type": "code",
   "execution_count": 5,
   "metadata": {},
   "outputs": [
    {
     "data": {
      "text/plain": [
       "0      Appreciate constructive talk w/ Qatari MFA @MB...\n",
       "1      Talt m. Thailands udenrigsminister Don Pramudw...\n",
       "2      Sidste hold danskere fra to italienske krydsto...\n",
       "3      Ekstra mandskab fra Udenrigsministeriet nu fre...\n",
       "4      My heartfelt condolences and thoughts are with...\n",
       "                             ...                        \n",
       "956    Strongly condemn recent attacks against Turkis...\n",
       "957    Fælles indlæg af Udenrigsministre fra 🇫🇷🇩🇪🇩🇰🇸🇪...\n",
       "958           EU-debat i øjenhøjde og menneskesprog 😄😎🇪🇺\n",
       "959    Der er brug for større åbenhed i EU🇪🇺\\nDét bør...\n",
       "960    Danmark skal være en grøn stormagt! 🌿🇩🇰🌍\\n\\nTr...\n",
       "Name: tweet, Length: 961, dtype: object"
      ]
     },
     "execution_count": 5,
     "metadata": {},
     "output_type": "execute_result"
    }
   ],
   "source": [
    "tweets = pd.read_csv('user_tweets.csv')\n",
    "tweets['tweet']"
   ]
  },
  {
   "cell_type": "markdown",
   "metadata": {},
   "source": [
    "### Ane Halsboe"
   ]
  },
  {
   "cell_type": "code",
   "execution_count": null,
   "metadata": {},
   "outputs": [],
   "source": [
    "c = twint.Config()\n",
    "c.Username = \"AneHalsboe\"\n",
    "c.Since = \"2020-02-26\"\n",
    "c.Store_csv = True\n",
    "c.Hide_output = True\n",
    "c.Custom['tweet'] = ['id', 'conversation_id', 'created_at', 'date', 'time', 'timezone', 'user_id', 'username', 'name', 'place',\n",
    "                     'tweet', 'urls', 'replies_count', 'retweets_count', 'likes_count', 'hashtags', 'link', 'retweet',\n",
    "                     'user_rt_id', 'user_rt', 'retweet_id', 'reply_to', 'retweet_date']\n",
    "c.Output = \"user_tweets.csv\""
   ]
  },
  {
   "cell_type": "code",
   "execution_count": null,
   "metadata": {},
   "outputs": [],
   "source": [
    "twint.run.Search(c)"
   ]
  },
  {
   "cell_type": "code",
   "execution_count": null,
   "metadata": {},
   "outputs": [],
   "source": [
    "tweets = pd.read_csv('user_tweets.csv')\n",
    "\n",
    "def newline_fix(tweet):\n",
    "    new_tweet = tweet.replace('\\n', ' ')\n",
    "    return(new_tweet)\n",
    "\n",
    "tweets['tweet'] = tweets['tweet'].map(newline_fix)\n",
    "\n",
    "tweets.to_csv(\"ahalsboe_tweets.csv\")"
   ]
  },
  {
   "cell_type": "markdown",
   "metadata": {},
   "source": [
    "## Indhold af tweets\n",
    "\n",
    "Vi ser nærmere på indholdet af Ane Halsboes tweets:"
   ]
  },
  {
   "cell_type": "code",
   "execution_count": 6,
   "metadata": {},
   "outputs": [],
   "source": [
    "tweets = pd.read_csv(\"ahalsboe_tweets.csv\")"
   ]
  },
  {
   "cell_type": "code",
   "execution_count": null,
   "metadata": {},
   "outputs": [],
   "source": [
    "list(tweets.columns.values)"
   ]
  },
  {
   "cell_type": "code",
   "execution_count": 7,
   "metadata": {},
   "outputs": [
    {
     "data": {
      "text/html": [
       "<div>\n",
       "<style scoped>\n",
       "    .dataframe tbody tr th:only-of-type {\n",
       "        vertical-align: middle;\n",
       "    }\n",
       "\n",
       "    .dataframe tbody tr th {\n",
       "        vertical-align: top;\n",
       "    }\n",
       "\n",
       "    .dataframe thead th {\n",
       "        text-align: right;\n",
       "    }\n",
       "</style>\n",
       "<table border=\"1\" class=\"dataframe\">\n",
       "  <thead>\n",
       "    <tr style=\"text-align: right;\">\n",
       "      <th></th>\n",
       "      <th>tweet</th>\n",
       "      <th>date</th>\n",
       "      <th>urls</th>\n",
       "    </tr>\n",
       "  </thead>\n",
       "  <tbody>\n",
       "    <tr>\n",
       "      <th>29</th>\n",
       "      <td>Her har du link:  https://www.berlingske.dk/ko...</td>\n",
       "      <td>2020-03-08</td>\n",
       "      <td>['https://www.berlingske.dk/kommentarer/jeg-oe...</td>\n",
       "    </tr>\n",
       "    <tr>\n",
       "      <th>38</th>\n",
       "      <td>Hele indlægget kan læses her:  https://www.ber...</td>\n",
       "      <td>2020-03-08</td>\n",
       "      <td>['https://www.berlingske.dk/kommentarer/jeg-oe...</td>\n",
       "    </tr>\n",
       "  </tbody>\n",
       "</table>\n",
       "</div>"
      ],
      "text/plain": [
       "                                                tweet        date  \\\n",
       "29  Her har du link:  https://www.berlingske.dk/ko...  2020-03-08   \n",
       "38  Hele indlægget kan læses her:  https://www.ber...  2020-03-08   \n",
       "\n",
       "                                                 urls  \n",
       "29  ['https://www.berlingske.dk/kommentarer/jeg-oe...  \n",
       "38  ['https://www.berlingske.dk/kommentarer/jeg-oe...  "
      ]
     },
     "execution_count": 7,
     "metadata": {},
     "output_type": "execute_result"
    }
   ],
   "source": [
    "searchterms = ['berlingske', 'politiken']\n",
    "\n",
    "def keyword_check(searchterms, url):\n",
    "    url = url.lower()\n",
    "    if any(term in url for term in searchterms):\n",
    "        return True\n",
    "    else:\n",
    "        return False\n",
    "\n",
    "tweets_subset = tweets.loc[[keyword_check(searchterms, url) for url in tweets['urls']], ['tweet', 'date', 'urls']]\n",
    "tweets_subset"
   ]
  },
  {
   "cell_type": "code",
   "execution_count": null,
   "metadata": {},
   "outputs": [],
   "source": []
  }
 ],
 "metadata": {
  "kernelspec": {
   "display_name": "Python 3",
   "language": "python",
   "name": "python3"
  },
  "language_info": {
   "codemirror_mode": {
    "name": "ipython",
    "version": 3
   },
   "file_extension": ".py",
   "mimetype": "text/x-python",
   "name": "python",
   "nbconvert_exporter": "python",
   "pygments_lexer": "ipython3",
   "version": "3.6.10"
  }
 },
 "nbformat": 4,
 "nbformat_minor": 2
}
