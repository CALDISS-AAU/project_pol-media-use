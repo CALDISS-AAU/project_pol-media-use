{
 "cells": [
  {
   "cell_type": "markdown",
   "metadata": {},
   "source": [
    "## Pakker"
   ]
  },
  {
   "cell_type": "code",
   "execution_count": 16,
   "metadata": {},
   "outputs": [],
   "source": [
    "import sys\n",
    "sys.path.append('../modules')\n",
    "import berlingske_fp_watcher as fpwatch\n",
    "\n",
    "from bs4 import BeautifulSoup as bs\n",
    "import pandas as pd\n",
    "import numpy as np\n",
    "\n",
    "import scrapy\n",
    "import requests\n",
    "from scrapy import Selector\n",
    "\n",
    "import os\n",
    "import sys\n",
    "import datetime\n",
    "\n",
    "from selenium import webdriver\n",
    "from selenium.webdriver.common.keys import Keys\n",
    "from selenium.common.exceptions import NoSuchElementException, WebDriverException, ElementNotInteractableException\n",
    "from selenium.webdriver.common.action_chains import ActionChains\n",
    "from selenium.webdriver.support import expected_conditions as EC\n",
    "from selenium.webdriver.common.by import By\n",
    "from selenium.webdriver.support.ui import WebDriverWait as wait\n",
    "from selenium.webdriver.chrome.options import Options\n",
    "\n",
    "import re\n",
    "import time\n",
    "import uuid\n",
    "from random import randint\n",
    "from itertools import compress\n",
    "import json\n",
    "\n",
    "import pprint\n",
    "pp = pprint.PrettyPrinter()"
   ]
  },
  {
   "cell_type": "code",
   "execution_count": 17,
   "metadata": {},
   "outputs": [],
   "source": [
    "dt_now = datetime.datetime.now()"
   ]
  },
  {
   "cell_type": "code",
   "execution_count": 21,
   "metadata": {},
   "outputs": [],
   "source": [
    "end_time = datetime.datetime(2020, 8, 1)"
   ]
  },
  {
   "cell_type": "code",
   "execution_count": 23,
   "metadata": {},
   "outputs": [
    {
     "data": {
      "text/plain": [
       "True"
      ]
     },
     "execution_count": 23,
     "metadata": {},
     "output_type": "execute_result"
    }
   ],
   "source": [
    "dt_now < end_time"
   ]
  },
  {
   "cell_type": "code",
   "execution_count": 4,
   "metadata": {},
   "outputs": [
    {
     "name": "stdout",
     "output_type": "stream",
     "text": [
      "Berlingske front page checked on 2020-06-16 15:13:32.965654. 6 new articles found.\n"
     ]
    }
   ],
   "source": [
    "keywords = ['corona']\n",
    "\n",
    "datadir = \"../data/\"\n",
    "\n",
    "fpwatch.headline_watch(keywords = keywords, datadir = datadir)"
   ]
  },
  {
   "cell_type": "code",
   "execution_count": 5,
   "metadata": {},
   "outputs": [],
   "source": [
    "data = pd.read_json('../data/berlingske_articles.json')"
   ]
  },
  {
   "cell_type": "code",
   "execution_count": 6,
   "metadata": {},
   "outputs": [
    {
     "data": {
      "text/html": [
       "<div>\n",
       "<style scoped>\n",
       "    .dataframe tbody tr th:only-of-type {\n",
       "        vertical-align: middle;\n",
       "    }\n",
       "\n",
       "    .dataframe tbody tr th {\n",
       "        vertical-align: top;\n",
       "    }\n",
       "\n",
       "    .dataframe thead th {\n",
       "        text-align: right;\n",
       "    }\n",
       "</style>\n",
       "<table border=\"1\" class=\"dataframe\">\n",
       "  <thead>\n",
       "    <tr style=\"text-align: right;\">\n",
       "      <th></th>\n",
       "      <th>uuid</th>\n",
       "      <th>article_accessed</th>\n",
       "      <th>newspaper_name</th>\n",
       "      <th>newspaper_frontpage_url</th>\n",
       "      <th>frontpage_selector</th>\n",
       "      <th>keywords_search</th>\n",
       "      <th>keywords_match</th>\n",
       "      <th>article_title</th>\n",
       "      <th>frontpage_title</th>\n",
       "      <th>article_link</th>\n",
       "      <th>article_datetime</th>\n",
       "      <th>encounter_datetime</th>\n",
       "    </tr>\n",
       "  </thead>\n",
       "  <tbody>\n",
       "    <tr>\n",
       "      <th>0</th>\n",
       "      <td>3bc151c8-0a32-4462-ab75-3127274198cc</td>\n",
       "      <td>1</td>\n",
       "      <td>Berlingske</td>\n",
       "      <td>https://www.berlingske.dk/</td>\n",
       "      <td>div.front.theme-berlingske</td>\n",
       "      <td>[død]</td>\n",
       "      <td>[død]</td>\n",
       "      <td>»Stort gennembrud«: Billig medicintype kan red...</td>\n",
       "      <td>»stort gennembrud«: billig medicintype kan re...</td>\n",
       "      <td>https://www.berlingske.dk/europa/stort-gennemb...</td>\n",
       "      <td>2020-06-16T14:33:00+02:00</td>\n",
       "      <td>2020-06-16 15:12</td>\n",
       "    </tr>\n",
       "    <tr>\n",
       "      <th>1</th>\n",
       "      <td>3b9a4c8b-9f33-4694-9f40-2a299fcf4546</td>\n",
       "      <td>1</td>\n",
       "      <td>Berlingske</td>\n",
       "      <td>https://www.berlingske.dk/</td>\n",
       "      <td>div.front.theme-berlingske</td>\n",
       "      <td>[død]</td>\n",
       "      <td>[død]</td>\n",
       "      <td>Liveblog: Få seneste nyt om coronavirussen og ...</td>\n",
       "      <td>der er ingen nye coronarelaterede dødsfald i ...</td>\n",
       "      <td>https://www.berlingske.dk/samfund/liveblog-cor...</td>\n",
       "      <td>2020-06-16T06:00:00+02:00</td>\n",
       "      <td>2020-06-16 15:12</td>\n",
       "    </tr>\n",
       "    <tr>\n",
       "      <th>2</th>\n",
       "      <td>5d3a896e-d95a-4260-bb99-fd6f78120a9c</td>\n",
       "      <td>1</td>\n",
       "      <td>Berlingske</td>\n",
       "      <td>https://www.berlingske.dk/</td>\n",
       "      <td>div.front.theme-berlingske</td>\n",
       "      <td>[død]</td>\n",
       "      <td>[død]</td>\n",
       "      <td>Forsker har undersøgt afdøde coronapatienter: ...</td>\n",
       "      <td>forsker har undersøgt afdøde coronapatienter:...</td>\n",
       "      <td>https://www.berlingske.dk/internationalt/forsk...</td>\n",
       "      <td>2020-06-16T11:28:00+02:00</td>\n",
       "      <td>2020-06-16 15:12</td>\n",
       "    </tr>\n",
       "    <tr>\n",
       "      <th>3</th>\n",
       "      <td>5875af43-efea-4999-9b7f-2286f7ae15dd</td>\n",
       "      <td>1</td>\n",
       "      <td>Berlingske</td>\n",
       "      <td>https://www.berlingske.dk/</td>\n",
       "      <td>div.front.theme-berlingske</td>\n",
       "      <td>[død]</td>\n",
       "      <td>[død]</td>\n",
       "      <td>Madeleine er død, siger politiet – men hendes ...</td>\n",
       "      <td>madeleine er død, siger politiet - men hendes ...</td>\n",
       "      <td>https://www.berlingske.dk/internationalt/madel...</td>\n",
       "      <td>2020-06-16T07:09:00+02:00</td>\n",
       "      <td>2020-06-16 15:12</td>\n",
       "    </tr>\n",
       "    <tr>\n",
       "      <th>4</th>\n",
       "      <td>a34b66b4-7cb3-4c38-901e-1648c3c9d48f</td>\n",
       "      <td>1</td>\n",
       "      <td>Berlingske</td>\n",
       "      <td>https://www.berlingske.dk/</td>\n",
       "      <td>div.front.theme-berlingske</td>\n",
       "      <td>[død]</td>\n",
       "      <td>[død]</td>\n",
       "      <td>De er skyld i 12 procent af dødsfaldene i Købe...</td>\n",
       "      <td>de er skyld i 12 procent af dødsfaldene i køb...</td>\n",
       "      <td>https://www.berlingske.dk/samfund/de-er-skyld-...</td>\n",
       "      <td>2020-06-16T07:46:00+02:00</td>\n",
       "      <td>2020-06-16 15:12</td>\n",
       "    </tr>\n",
       "    <tr>\n",
       "      <th>5</th>\n",
       "      <td>5ef4309a-cf0d-4c63-b408-308c68f7cc34</td>\n",
       "      <td>1</td>\n",
       "      <td>Berlingske</td>\n",
       "      <td>https://www.berlingske.dk/</td>\n",
       "      <td>div.front.theme-berlingske</td>\n",
       "      <td>[død]</td>\n",
       "      <td>[død]</td>\n",
       "      <td>Trump vil underskrive politireform som svar på...</td>\n",
       "      <td>trump vil underskrive politireform som svar p...</td>\n",
       "      <td>https://www.berlingske.dk/internationalt/trump...</td>\n",
       "      <td>2020-06-16T00:57:00+02:00</td>\n",
       "      <td>2020-06-16 15:12</td>\n",
       "    </tr>\n",
       "    <tr>\n",
       "      <th>6</th>\n",
       "      <td>4e36535e-f267-4cfe-b738-c699dcc35662</td>\n",
       "      <td>1</td>\n",
       "      <td>Berlingske</td>\n",
       "      <td>https://www.berlingske.dk/</td>\n",
       "      <td>div.front.theme-berlingske</td>\n",
       "      <td>[corona]</td>\n",
       "      <td>[corona]</td>\n",
       "      <td>I Nordre Toldbod flyver de stadig højt trods c...</td>\n",
       "      <td>i nordre toldbod flyver de stadig højt trods ...</td>\n",
       "      <td>https://www.berlingske.dk/business/i-nordre-to...</td>\n",
       "      <td>2020-06-16T15:05:00+02:00</td>\n",
       "      <td>2020-06-16 15:13</td>\n",
       "    </tr>\n",
       "    <tr>\n",
       "      <th>7</th>\n",
       "      <td>2465ea02-c118-4fa7-878a-b40d967436ea</td>\n",
       "      <td>1</td>\n",
       "      <td>Berlingske</td>\n",
       "      <td>https://www.berlingske.dk/</td>\n",
       "      <td>div.front.theme-berlingske</td>\n",
       "      <td>[corona]</td>\n",
       "      <td>[corona]</td>\n",
       "      <td>Seks passagerer på fly til København er corona...</td>\n",
       "      <td>seks passagerer på fly til københavn er corona...</td>\n",
       "      <td>https://www.berlingske.dk/nyheder/seks-passage...</td>\n",
       "      <td>2020-06-16T12:14:00+02:00</td>\n",
       "      <td>2020-06-16 15:13</td>\n",
       "    </tr>\n",
       "    <tr>\n",
       "      <th>8</th>\n",
       "      <td>91515c4e-9766-4264-aca7-7ae3ef664dd4</td>\n",
       "      <td>1</td>\n",
       "      <td>Berlingske</td>\n",
       "      <td>https://www.berlingske.dk/</td>\n",
       "      <td>div.front.theme-berlingske</td>\n",
       "      <td>[corona]</td>\n",
       "      <td>[corona]</td>\n",
       "      <td>Efter 50 dages fred: En uvelkommen gæst er til...</td>\n",
       "      <td>coronavirus er tilbage i beijing – en fødevar...</td>\n",
       "      <td>https://www.berlingske.dk/globalt/efter-50-dag...</td>\n",
       "      <td>2020-06-15T14:27:00+02:00</td>\n",
       "      <td>2020-06-16 15:13</td>\n",
       "    </tr>\n",
       "    <tr>\n",
       "      <th>9</th>\n",
       "      <td>43456f48-c7e1-4605-9dfa-12e56bd6e0d7</td>\n",
       "      <td>1</td>\n",
       "      <td>Berlingske</td>\n",
       "      <td>https://www.berlingske.dk/</td>\n",
       "      <td>div.front.theme-berlingske</td>\n",
       "      <td>[corona]</td>\n",
       "      <td>[corona]</td>\n",
       "      <td>Nødundervisning har været øjenåbner for minist...</td>\n",
       "      <td>nødundervisning har væretøjenåbner for minist...</td>\n",
       "      <td>https://www.berlingske.dk/danmark/noedundervis...</td>\n",
       "      <td>2020-06-16T06:12:00+02:00</td>\n",
       "      <td>2020-06-16 15:13</td>\n",
       "    </tr>\n",
       "    <tr>\n",
       "      <th>10</th>\n",
       "      <td>8e6cd81b-3bec-44f3-a9a8-2c7599b759b4</td>\n",
       "      <td>1</td>\n",
       "      <td>Berlingske</td>\n",
       "      <td>https://www.berlingske.dk/</td>\n",
       "      <td>div.front.theme-berlingske</td>\n",
       "      <td>[corona]</td>\n",
       "      <td>[corona]</td>\n",
       "      <td>»Det kommer faktisk lidt bag på mig« – her er ...</td>\n",
       "      <td>»det kommer faktisk lidt bag på mig« – her er ...</td>\n",
       "      <td>https://www.berlingske.dk/samfund/det-kommer-f...</td>\n",
       "      <td>2020-06-15T17:15:00+02:00</td>\n",
       "      <td>2020-06-16 15:13</td>\n",
       "    </tr>\n",
       "    <tr>\n",
       "      <th>11</th>\n",
       "      <td>999bbc8e-88fb-4ded-a4c3-46fb1a0444a6</td>\n",
       "      <td>1</td>\n",
       "      <td>Berlingske</td>\n",
       "      <td>https://www.berlingske.dk/</td>\n",
       "      <td>div.front.theme-berlingske</td>\n",
       "      <td>[corona]</td>\n",
       "      <td>[corona]</td>\n",
       "      <td>Snart kan coronasmittede blive isoleret på hot...</td>\n",
       "      <td>snart kan coronasmittede blive isoleret på ho...</td>\n",
       "      <td>https://www.berlingske.dk/danmark/snart-kan-co...</td>\n",
       "      <td>2020-06-15T18:37:00+02:00</td>\n",
       "      <td>2020-06-16 15:13</td>\n",
       "    </tr>\n",
       "  </tbody>\n",
       "</table>\n",
       "</div>"
      ],
      "text/plain": [
       "                                    uuid  article_accessed newspaper_name  \\\n",
       "0   3bc151c8-0a32-4462-ab75-3127274198cc                 1     Berlingske   \n",
       "1   3b9a4c8b-9f33-4694-9f40-2a299fcf4546                 1     Berlingske   \n",
       "2   5d3a896e-d95a-4260-bb99-fd6f78120a9c                 1     Berlingske   \n",
       "3   5875af43-efea-4999-9b7f-2286f7ae15dd                 1     Berlingske   \n",
       "4   a34b66b4-7cb3-4c38-901e-1648c3c9d48f                 1     Berlingske   \n",
       "5   5ef4309a-cf0d-4c63-b408-308c68f7cc34                 1     Berlingske   \n",
       "6   4e36535e-f267-4cfe-b738-c699dcc35662                 1     Berlingske   \n",
       "7   2465ea02-c118-4fa7-878a-b40d967436ea                 1     Berlingske   \n",
       "8   91515c4e-9766-4264-aca7-7ae3ef664dd4                 1     Berlingske   \n",
       "9   43456f48-c7e1-4605-9dfa-12e56bd6e0d7                 1     Berlingske   \n",
       "10  8e6cd81b-3bec-44f3-a9a8-2c7599b759b4                 1     Berlingske   \n",
       "11  999bbc8e-88fb-4ded-a4c3-46fb1a0444a6                 1     Berlingske   \n",
       "\n",
       "       newspaper_frontpage_url          frontpage_selector keywords_search  \\\n",
       "0   https://www.berlingske.dk/  div.front.theme-berlingske           [død]   \n",
       "1   https://www.berlingske.dk/  div.front.theme-berlingske           [død]   \n",
       "2   https://www.berlingske.dk/  div.front.theme-berlingske           [død]   \n",
       "3   https://www.berlingske.dk/  div.front.theme-berlingske           [død]   \n",
       "4   https://www.berlingske.dk/  div.front.theme-berlingske           [død]   \n",
       "5   https://www.berlingske.dk/  div.front.theme-berlingske           [død]   \n",
       "6   https://www.berlingske.dk/  div.front.theme-berlingske        [corona]   \n",
       "7   https://www.berlingske.dk/  div.front.theme-berlingske        [corona]   \n",
       "8   https://www.berlingske.dk/  div.front.theme-berlingske        [corona]   \n",
       "9   https://www.berlingske.dk/  div.front.theme-berlingske        [corona]   \n",
       "10  https://www.berlingske.dk/  div.front.theme-berlingske        [corona]   \n",
       "11  https://www.berlingske.dk/  div.front.theme-berlingske        [corona]   \n",
       "\n",
       "   keywords_match                                      article_title  \\\n",
       "0           [død]  »Stort gennembrud«: Billig medicintype kan red...   \n",
       "1           [død]  Liveblog: Få seneste nyt om coronavirussen og ...   \n",
       "2           [død]  Forsker har undersøgt afdøde coronapatienter: ...   \n",
       "3           [død]  Madeleine er død, siger politiet – men hendes ...   \n",
       "4           [død]  De er skyld i 12 procent af dødsfaldene i Købe...   \n",
       "5           [død]  Trump vil underskrive politireform som svar på...   \n",
       "6        [corona]  I Nordre Toldbod flyver de stadig højt trods c...   \n",
       "7        [corona]  Seks passagerer på fly til København er corona...   \n",
       "8        [corona]  Efter 50 dages fred: En uvelkommen gæst er til...   \n",
       "9        [corona]  Nødundervisning har været øjenåbner for minist...   \n",
       "10       [corona]  »Det kommer faktisk lidt bag på mig« – her er ...   \n",
       "11       [corona]  Snart kan coronasmittede blive isoleret på hot...   \n",
       "\n",
       "                                      frontpage_title  \\\n",
       "0    »stort gennembrud«: billig medicintype kan re...   \n",
       "1    der er ingen nye coronarelaterede dødsfald i ...   \n",
       "2    forsker har undersøgt afdøde coronapatienter:...   \n",
       "3   madeleine er død, siger politiet - men hendes ...   \n",
       "4    de er skyld i 12 procent af dødsfaldene i køb...   \n",
       "5    trump vil underskrive politireform som svar p...   \n",
       "6    i nordre toldbod flyver de stadig højt trods ...   \n",
       "7   seks passagerer på fly til københavn er corona...   \n",
       "8    coronavirus er tilbage i beijing – en fødevar...   \n",
       "9    nødundervisning har væretøjenåbner for minist...   \n",
       "10  »det kommer faktisk lidt bag på mig« – her er ...   \n",
       "11   snart kan coronasmittede blive isoleret på ho...   \n",
       "\n",
       "                                         article_link  \\\n",
       "0   https://www.berlingske.dk/europa/stort-gennemb...   \n",
       "1   https://www.berlingske.dk/samfund/liveblog-cor...   \n",
       "2   https://www.berlingske.dk/internationalt/forsk...   \n",
       "3   https://www.berlingske.dk/internationalt/madel...   \n",
       "4   https://www.berlingske.dk/samfund/de-er-skyld-...   \n",
       "5   https://www.berlingske.dk/internationalt/trump...   \n",
       "6   https://www.berlingske.dk/business/i-nordre-to...   \n",
       "7   https://www.berlingske.dk/nyheder/seks-passage...   \n",
       "8   https://www.berlingske.dk/globalt/efter-50-dag...   \n",
       "9   https://www.berlingske.dk/danmark/noedundervis...   \n",
       "10  https://www.berlingske.dk/samfund/det-kommer-f...   \n",
       "11  https://www.berlingske.dk/danmark/snart-kan-co...   \n",
       "\n",
       "             article_datetime encounter_datetime  \n",
       "0   2020-06-16T14:33:00+02:00   2020-06-16 15:12  \n",
       "1   2020-06-16T06:00:00+02:00   2020-06-16 15:12  \n",
       "2   2020-06-16T11:28:00+02:00   2020-06-16 15:12  \n",
       "3   2020-06-16T07:09:00+02:00   2020-06-16 15:12  \n",
       "4   2020-06-16T07:46:00+02:00   2020-06-16 15:12  \n",
       "5   2020-06-16T00:57:00+02:00   2020-06-16 15:12  \n",
       "6   2020-06-16T15:05:00+02:00   2020-06-16 15:13  \n",
       "7   2020-06-16T12:14:00+02:00   2020-06-16 15:13  \n",
       "8   2020-06-15T14:27:00+02:00   2020-06-16 15:13  \n",
       "9   2020-06-16T06:12:00+02:00   2020-06-16 15:13  \n",
       "10  2020-06-15T17:15:00+02:00   2020-06-16 15:13  \n",
       "11  2020-06-15T18:37:00+02:00   2020-06-16 15:13  "
      ]
     },
     "execution_count": 6,
     "metadata": {},
     "output_type": "execute_result"
    }
   ],
   "source": [
    "data"
   ]
  },
  {
   "cell_type": "markdown",
   "metadata": {},
   "source": [
    "## Aviser"
   ]
  },
  {
   "cell_type": "markdown",
   "metadata": {},
   "source": [
    "### Politiken"
   ]
  },
  {
   "cell_type": "code",
   "execution_count": null,
   "metadata": {},
   "outputs": [],
   "source": [
    "# Front-page\n",
    "url = 'https://politiken.dk/'\n",
    "\n",
    "# Selector\n",
    "front_sel = \"section.frontpage__section.frontpage__section--top\""
   ]
  },
  {
   "cell_type": "markdown",
   "metadata": {},
   "source": [
    "#### Using scrapy"
   ]
  },
  {
   "cell_type": "code",
   "execution_count": null,
   "metadata": {},
   "outputs": [],
   "source": [
    "page_url = url\n",
    "page_html = requests.get(page_url).content\n",
    "page_sel = Selector(text = page_html)\n",
    "\n",
    "front_page = page_sel.css(front_sel)\n",
    "\n",
    "links = front_page.css('a::attr(href)').extract()"
   ]
  },
  {
   "cell_type": "code",
   "execution_count": null,
   "metadata": {},
   "outputs": [],
   "source": [
    "import pprint\n",
    "\n",
    "front_html = front_page.getall()\n",
    "\n",
    "pp = pprint.PrettyPrinter()\n",
    "\n",
    "pp.pprint(front_html)"
   ]
  },
  {
   "cell_type": "code",
   "execution_count": null,
   "metadata": {},
   "outputs": [],
   "source": [
    "headlines = front_page.css(\"h2\")\n",
    "\n",
    "headlines_ext = list()\n",
    "\n",
    "keywords = ['s']\n",
    "\n",
    "def text_ext(keywords, text):\n",
    "    if any(word in text for word in keywords):\n",
    "        return True\n",
    "    else:\n",
    "        return False\n",
    "\n",
    "for headline in headlines:\n",
    "    text = headline.css(\" ::text\").getall()\n",
    "    text = ' '.join(text)\n",
    "    text_l = text.lower()\n",
    "    if text_ext(keywords, text_l) == True:\n",
    "        headlines_ext.append(headline)\n",
    "\n",
    "print(len(headlines),\n",
    "      len(headlines_ext))"
   ]
  },
  {
   "cell_type": "code",
   "execution_count": null,
   "metadata": {},
   "outputs": [],
   "source": [
    "filter_links = list()\n",
    "for headline in headlines_ext:\n",
    "    filter_links.append(headline.css(\"a::attr(href)\").get())\n",
    "\n",
    "filter_links"
   ]
  },
  {
   "cell_type": "markdown",
   "metadata": {},
   "source": [
    "Follow filtered links:"
   ]
  },
  {
   "cell_type": "code",
   "execution_count": null,
   "metadata": {},
   "outputs": [],
   "source": [
    "title_sel = \"title ::text\"\n",
    "datetime_xpath = '//meta[contains(@property,\"article:published_time\")]/@content'\n",
    "\n",
    "page_title = page_sel.css(title_sel).get()\n",
    "page_datetime = page_sel.xpath(datetime_xpath).get()\n",
    "\n",
    "print(page_title,\n",
    "     page_datetime)"
   ]
  },
  {
   "cell_type": "code",
   "execution_count": null,
   "metadata": {},
   "outputs": [],
   "source": [
    "page_url = filter_links[0]\n",
    "page_html = requests.get(page_url).content\n",
    "page_sel = Selector(text = page_html)\n",
    "\n",
    "pp = pprint.PrettyPrinter()\n",
    "\n",
    "pp.pprint(page_sel.getall())"
   ]
  },
  {
   "cell_type": "markdown",
   "metadata": {},
   "source": [
    "### Berlingske"
   ]
  },
  {
   "cell_type": "code",
   "execution_count": null,
   "metadata": {},
   "outputs": [],
   "source": [
    "# Front-page\n",
    "url = 'https://www.berlingske.dk/'\n",
    "\n",
    "# Selector\n",
    "front_sel = \"div.front.theme-berlingske\""
   ]
  },
  {
   "cell_type": "markdown",
   "metadata": {},
   "source": [
    "Get HTML and selector:"
   ]
  },
  {
   "cell_type": "code",
   "execution_count": null,
   "metadata": {},
   "outputs": [],
   "source": [
    "page_url = url\n",
    "page_html = requests.get(page_url).content\n",
    "page_sel = Selector(text = page_html)\n",
    "\n",
    "front_page = page_sel.css(front_sel)"
   ]
  },
  {
   "cell_type": "markdown",
   "metadata": {},
   "source": [
    "Get headlines."
   ]
  },
  {
   "cell_type": "code",
   "execution_count": null,
   "metadata": {},
   "outputs": [],
   "source": [
    "headline_xpath = '//article/div/a[contains(@class,\"dre-item\")]'\n",
    "\n",
    "headlines = front_page.xpath(headline_xpath)"
   ]
  },
  {
   "cell_type": "markdown",
   "metadata": {},
   "source": [
    "Check headlines for keywords."
   ]
  },
  {
   "cell_type": "code",
   "execution_count": null,
   "metadata": {},
   "outputs": [],
   "source": [
    "#define functions\n",
    "def keyword_check(keywords, headline):\n",
    "    text = headline.css(\"div ::text\").getall()\n",
    "    text = ' '.join(text)\n",
    "    text = text.lower()\n",
    "    if any(word in text for word in keywords):\n",
    "        return True\n",
    "    else:\n",
    "        return False\n",
    "\n",
    "headlines_ext = list()\n",
    "keywords = ['maskine', 'danmark', 'møder']\n",
    "\n",
    "for headline in headlines:\n",
    "        if keyword_check(keywords, headline) == True:\n",
    "            headlines_ext.append(headline)\n",
    "\n",
    "len(headlines_ext)"
   ]
  },
  {
   "cell_type": "markdown",
   "metadata": {},
   "source": [
    "Get links."
   ]
  },
  {
   "cell_type": "code",
   "execution_count": null,
   "metadata": {},
   "outputs": [],
   "source": [
    "links_ext = list()\n",
    "for headline in headlines_ext:\n",
    "    links_ext.append(headline.css(\"::attr(href)\").get())\n",
    "links_ext = list(filter(None, links_ext))\n",
    "\n",
    "print(links_ext)"
   ]
  },
  {
   "cell_type": "markdown",
   "metadata": {},
   "source": [
    "Collect."
   ]
  },
  {
   "cell_type": "code",
   "execution_count": null,
   "metadata": {},
   "outputs": [],
   "source": [
    "headline = headlines_ext[0]\n",
    "\n",
    "def get_headline(healine_sel):\n",
    "    headline = Selector(text = healine_sel.css(\"div:first-of-type\").get()).css(' ::text').getall()\n",
    "    headline = ''.join(headline)\n",
    "    headline = headline.lower()\n",
    "    headline = re.sub('\\n', ' ', headline)\n",
    "    headline = re.sub('\\s\\s', '', headline)\n",
    "    headline = re.sub('\\s\\s', '', headline)\n",
    "    return(headline)\n",
    "\n",
    "frontpage_title = get_headline(headline)\n",
    "article_link = headline.css(\"::attr(href)\").get()\n",
    "\n",
    "info = dict()\n",
    "\n",
    "html = requests.get(article_link).content\n",
    "sel = Selector(text = html)\n",
    "\n",
    "art_uuid = str(uuid.uuid4())\n",
    "encounter_time = datetime.datetime.now().strftime('%Y-%m-%d %H:%M')\n",
    "\n",
    "title_sel = \"title ::text\"\n",
    "datetime_xpath = '//meta[contains(@property,\"article:published_time\")]/@content'\n",
    "\n",
    "article_title = sel.css(title_sel).get()\n",
    "article_datetime = sel.xpath(datetime_xpath).get()\n",
    "\n",
    "matches = list(compress(keywords, [keyword in frontpage_title for keyword in keywords]))\n",
    "\n",
    "info['uuid'] = art_uuid\n",
    "info['article_accessed'] = 1\n",
    "info['newspaper_name'] = 'Berlingske'\n",
    "info['newspaper_frontpage_url'] = 'https://www.berlingske.dk/'\n",
    "info['frontpage_selector'] = \"div.front.theme-berlingske\"\n",
    "info['keywords_search'] = keywords\n",
    "info['keywords_match'] = matches\n",
    "info['article_title'] = article_title\n",
    "info['frontpage_title'] = frontpage_title\n",
    "info['article_link'] = article_link\n",
    "info['article_datetime'] = article_datetime\n",
    "info['encounter_datetime'] = encounter_time"
   ]
  },
  {
   "cell_type": "code",
   "execution_count": null,
   "metadata": {},
   "outputs": [],
   "source": [
    "info"
   ]
  },
  {
   "cell_type": "code",
   "execution_count": null,
   "metadata": {},
   "outputs": [],
   "source": []
  }
 ],
 "metadata": {
  "kernelspec": {
   "display_name": "Python 3",
   "language": "python",
   "name": "python3"
  },
  "language_info": {
   "codemirror_mode": {
    "name": "ipython",
    "version": 3
   },
   "file_extension": ".py",
   "mimetype": "text/x-python",
   "name": "python",
   "nbconvert_exporter": "python",
   "pygments_lexer": "ipython3",
   "version": "3.6.10"
  }
 },
 "nbformat": 4,
 "nbformat_minor": 4
}
