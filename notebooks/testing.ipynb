{
 "cells": [
  {
   "cell_type": "markdown",
   "metadata": {},
   "source": [
    "## Pakker"
   ]
  },
  {
   "cell_type": "code",
   "execution_count": 11,
   "metadata": {},
   "outputs": [],
   "source": [
    "import sys\n",
    "sys.path.append('../modules')\n",
    "import berlingske_fp_watcher as fpwatch\n",
    "import os\n",
    "\n",
    "import pandas as pd\n",
    "import numpy as np"
   ]
  },
  {
   "cell_type": "code",
   "execution_count": 20,
   "metadata": {},
   "outputs": [
    {
     "name": "stdout",
     "output_type": "stream",
     "text": [
      "Berlingske front page checked on 2020-09-28 14:31:10.903839. 0 new articles found.\n"
     ]
    }
   ],
   "source": [
    "keywords = ['klima', 'miljø', 'klimalov', 'grøn', 'bæredygtig', 'fossil', 'olie']\n",
    "\n",
    "datadir = \"../data/testing/\"\n",
    "\n",
    "fpwatch.headline_watch(keywords = keywords, datadir = datadir)"
   ]
  },
  {
   "cell_type": "code",
   "execution_count": 21,
   "metadata": {},
   "outputs": [],
   "source": [
    "data = pd.read_json('../data/testing/berlingske_articles.json')"
   ]
  },
  {
   "cell_type": "code",
   "execution_count": 22,
   "metadata": {
    "scrolled": false
   },
   "outputs": [
    {
     "data": {
      "text/html": [
       "<div>\n",
       "<style scoped>\n",
       "    .dataframe tbody tr th:only-of-type {\n",
       "        vertical-align: middle;\n",
       "    }\n",
       "\n",
       "    .dataframe tbody tr th {\n",
       "        vertical-align: top;\n",
       "    }\n",
       "\n",
       "    .dataframe thead th {\n",
       "        text-align: right;\n",
       "    }\n",
       "</style>\n",
       "<table border=\"1\" class=\"dataframe\">\n",
       "  <thead>\n",
       "    <tr style=\"text-align: right;\">\n",
       "      <th></th>\n",
       "      <th>uuid</th>\n",
       "      <th>article_accessed</th>\n",
       "      <th>newspaper_name</th>\n",
       "      <th>newspaper_frontpage_url</th>\n",
       "      <th>frontpage_selector</th>\n",
       "      <th>keywords_search</th>\n",
       "      <th>keywords_match</th>\n",
       "      <th>article_title</th>\n",
       "      <th>frontpage_title</th>\n",
       "      <th>article_link</th>\n",
       "      <th>article_datetime</th>\n",
       "      <th>encounter_datetime</th>\n",
       "    </tr>\n",
       "  </thead>\n",
       "  <tbody>\n",
       "    <tr>\n",
       "      <th>0</th>\n",
       "      <td>a9da8bc5-b0d6-4481-9d0f-f2d2476d7ee3</td>\n",
       "      <td>1</td>\n",
       "      <td>Berlingske</td>\n",
       "      <td>https://www.berlingske.dk/</td>\n",
       "      <td>div.front.theme-berlingske</td>\n",
       "      <td>[klima, miljø, klimalov, grøn, bæredygtig, fos...</td>\n",
       "      <td>[grøn]</td>\n",
       "      <td>Jens Chr. Grøndahl: »Ingen kan være så regress...</td>\n",
       "      <td>jens chr. grøndahl: ingen kan være så regress...</td>\n",
       "      <td>https://www.berlingske.dk/boeger/jens-chr-groe...</td>\n",
       "      <td>2020-09-28T13:25:00+02:00</td>\n",
       "      <td>2020-09-28 14:30</td>\n",
       "    </tr>\n",
       "    <tr>\n",
       "      <th>1</th>\n",
       "      <td>044c75de-b86d-4bf2-b91a-d6993923fb8d</td>\n",
       "      <td>1</td>\n",
       "      <td>Berlingske</td>\n",
       "      <td>https://www.berlingske.dk/</td>\n",
       "      <td>div.front.theme-berlingske</td>\n",
       "      <td>[klima, miljø, klimalov, grøn, bæredygtig, fos...</td>\n",
       "      <td>[klima]</td>\n",
       "      <td>Bjørn Lomborg: Den orangefarvede himmel på USA...</td>\n",
       "      <td>bjørn lomborg: nej, den orangefarvede himmel ...</td>\n",
       "      <td>https://www.berlingske.dk/kommentarer/bjoern-l...</td>\n",
       "      <td>2020-09-28T12:00:00+02:00</td>\n",
       "      <td>2020-09-28 14:31</td>\n",
       "    </tr>\n",
       "  </tbody>\n",
       "</table>\n",
       "</div>"
      ],
      "text/plain": [
       "                                   uuid  article_accessed newspaper_name  \\\n",
       "0  a9da8bc5-b0d6-4481-9d0f-f2d2476d7ee3                 1     Berlingske   \n",
       "1  044c75de-b86d-4bf2-b91a-d6993923fb8d                 1     Berlingske   \n",
       "\n",
       "      newspaper_frontpage_url          frontpage_selector  \\\n",
       "0  https://www.berlingske.dk/  div.front.theme-berlingske   \n",
       "1  https://www.berlingske.dk/  div.front.theme-berlingske   \n",
       "\n",
       "                                     keywords_search keywords_match  \\\n",
       "0  [klima, miljø, klimalov, grøn, bæredygtig, fos...         [grøn]   \n",
       "1  [klima, miljø, klimalov, grøn, bæredygtig, fos...        [klima]   \n",
       "\n",
       "                                       article_title  \\\n",
       "0  Jens Chr. Grøndahl: »Ingen kan være så regress...   \n",
       "1  Bjørn Lomborg: Den orangefarvede himmel på USA...   \n",
       "\n",
       "                                     frontpage_title  \\\n",
       "0   jens chr. grøndahl: ingen kan være så regress...   \n",
       "1   bjørn lomborg: nej, den orangefarvede himmel ...   \n",
       "\n",
       "                                        article_link  \\\n",
       "0  https://www.berlingske.dk/boeger/jens-chr-groe...   \n",
       "1  https://www.berlingske.dk/kommentarer/bjoern-l...   \n",
       "\n",
       "            article_datetime encounter_datetime  \n",
       "0  2020-09-28T13:25:00+02:00   2020-09-28 14:30  \n",
       "1  2020-09-28T12:00:00+02:00   2020-09-28 14:31  "
      ]
     },
     "execution_count": 22,
     "metadata": {},
     "output_type": "execute_result"
    }
   ],
   "source": [
    "data"
   ]
  },
  {
   "cell_type": "code",
   "execution_count": 23,
   "metadata": {},
   "outputs": [],
   "source": [
    "import sys\n",
    "sys.path.append('../modules')\n",
    "import politiken_fp_watcher as fpwatch\n",
    "import os\n",
    "\n",
    "import pandas as pd\n",
    "import numpy as np"
   ]
  },
  {
   "cell_type": "code",
   "execution_count": 24,
   "metadata": {},
   "outputs": [
    {
     "name": "stdout",
     "output_type": "stream",
     "text": [
      "No existing url list. Creating new file politiken_article_urls.txt\n",
      "No existing data file. Creating new file politiken_articles.json\n",
      "Politiken front page checked on 2020-09-28 14:32:28.441857. 3 new articles found.\n"
     ]
    }
   ],
   "source": [
    "keywords = ['klima', 'miljø', 'klimalov', 'grøn', 'bæredygtig', 'fossil', 'olie']\n",
    "\n",
    "datadir = \"../data/testing/\"\n",
    "\n",
    "fpwatch.headline_watch(keywords = keywords, datadir = datadir)"
   ]
  },
  {
   "cell_type": "code",
   "execution_count": 26,
   "metadata": {},
   "outputs": [],
   "source": [
    "data = pd.read_json('../data/testing/politiken_articles.json')"
   ]
  },
  {
   "cell_type": "code",
   "execution_count": 27,
   "metadata": {},
   "outputs": [
    {
     "data": {
      "text/html": [
       "<div>\n",
       "<style scoped>\n",
       "    .dataframe tbody tr th:only-of-type {\n",
       "        vertical-align: middle;\n",
       "    }\n",
       "\n",
       "    .dataframe tbody tr th {\n",
       "        vertical-align: top;\n",
       "    }\n",
       "\n",
       "    .dataframe thead th {\n",
       "        text-align: right;\n",
       "    }\n",
       "</style>\n",
       "<table border=\"1\" class=\"dataframe\">\n",
       "  <thead>\n",
       "    <tr style=\"text-align: right;\">\n",
       "      <th></th>\n",
       "      <th>uuid</th>\n",
       "      <th>article_accessed</th>\n",
       "      <th>newspaper_name</th>\n",
       "      <th>newspaper_frontpage_url</th>\n",
       "      <th>frontpage_selector</th>\n",
       "      <th>keywords_search</th>\n",
       "      <th>keywords_match</th>\n",
       "      <th>article_title</th>\n",
       "      <th>article_link</th>\n",
       "      <th>article_datetime</th>\n",
       "      <th>encounter_datetime</th>\n",
       "    </tr>\n",
       "  </thead>\n",
       "  <tbody>\n",
       "    <tr>\n",
       "      <th>0</th>\n",
       "      <td>fa1dea1c-605f-4950-8fd6-28b842130286</td>\n",
       "      <td>1</td>\n",
       "      <td>Politiken</td>\n",
       "      <td>https://politiken.dk/</td>\n",
       "      <td>section.frontpage__section</td>\n",
       "      <td>[klima, miljø, klimalov, grøn, bæredygtig, fos...</td>\n",
       "      <td>[klima, fossil]</td>\n",
       "      <td>Danskernes nye, firehjulede klimadarling svine...</td>\n",
       "      <td>https://politiken.dk/klima/art7939783/Danskern...</td>\n",
       "      <td>2020-09-28T07:57:59+02:00</td>\n",
       "      <td>2020-09-28 14:32</td>\n",
       "    </tr>\n",
       "    <tr>\n",
       "      <th>1</th>\n",
       "      <td>d33fa343-01ce-417d-a2a2-d9ad09a5c6cb</td>\n",
       "      <td>1</td>\n",
       "      <td>Politiken</td>\n",
       "      <td>https://politiken.dk/</td>\n",
       "      <td>section.frontpage__section</td>\n",
       "      <td>[klima, miljø, klimalov, grøn, bæredygtig, fos...</td>\n",
       "      <td>[klima]</td>\n",
       "      <td>ATS: Dan Jørgensen: Jeg tænker på klimaet hver...</td>\n",
       "      <td>https://politiken.dk/bagsiden/atsbagsiden/art7...</td>\n",
       "      <td>2020-09-28T06:32:22+02:00</td>\n",
       "      <td>2020-09-28 14:32</td>\n",
       "    </tr>\n",
       "    <tr>\n",
       "      <th>2</th>\n",
       "      <td>456c83cb-5280-4a48-a992-a1483e259516</td>\n",
       "      <td>1</td>\n",
       "      <td>Politiken</td>\n",
       "      <td>https://politiken.dk/</td>\n",
       "      <td>section.frontpage__section</td>\n",
       "      <td>[klima, miljø, klimalov, grøn, bæredygtig, fos...</td>\n",
       "      <td>[klima]</td>\n",
       "      <td>Man tror det er løgn: Regeringen vil have fle...</td>\n",
       "      <td>https://politiken.dk/debat/ledere/art7940478/M...</td>\n",
       "      <td>2020-09-27T21:32:00+02:00</td>\n",
       "      <td>2020-09-28 14:32</td>\n",
       "    </tr>\n",
       "  </tbody>\n",
       "</table>\n",
       "</div>"
      ],
      "text/plain": [
       "                                   uuid  article_accessed newspaper_name  \\\n",
       "0  fa1dea1c-605f-4950-8fd6-28b842130286                 1      Politiken   \n",
       "1  d33fa343-01ce-417d-a2a2-d9ad09a5c6cb                 1      Politiken   \n",
       "2  456c83cb-5280-4a48-a992-a1483e259516                 1      Politiken   \n",
       "\n",
       "  newspaper_frontpage_url          frontpage_selector  \\\n",
       "0   https://politiken.dk/  section.frontpage__section   \n",
       "1   https://politiken.dk/  section.frontpage__section   \n",
       "2   https://politiken.dk/  section.frontpage__section   \n",
       "\n",
       "                                     keywords_search   keywords_match  \\\n",
       "0  [klima, miljø, klimalov, grøn, bæredygtig, fos...  [klima, fossil]   \n",
       "1  [klima, miljø, klimalov, grøn, bæredygtig, fos...          [klima]   \n",
       "2  [klima, miljø, klimalov, grøn, bæredygtig, fos...          [klima]   \n",
       "\n",
       "                                       article_title  \\\n",
       "0  Danskernes nye, firehjulede klimadarling svine...   \n",
       "1  ATS: Dan Jørgensen: Jeg tænker på klimaet hver...   \n",
       "2   Man tror det er løgn: Regeringen vil have fle...   \n",
       "\n",
       "                                        article_link  \\\n",
       "0  https://politiken.dk/klima/art7939783/Danskern...   \n",
       "1  https://politiken.dk/bagsiden/atsbagsiden/art7...   \n",
       "2  https://politiken.dk/debat/ledere/art7940478/M...   \n",
       "\n",
       "            article_datetime encounter_datetime  \n",
       "0  2020-09-28T07:57:59+02:00   2020-09-28 14:32  \n",
       "1  2020-09-28T06:32:22+02:00   2020-09-28 14:32  \n",
       "2  2020-09-27T21:32:00+02:00   2020-09-28 14:32  "
      ]
     },
     "execution_count": 27,
     "metadata": {},
     "output_type": "execute_result"
    }
   ],
   "source": [
    "data"
   ]
  },
  {
   "cell_type": "code",
   "execution_count": null,
   "metadata": {},
   "outputs": [],
   "source": [
    "from bs4 import BeautifulSoup as bs\n",
    "import pandas as pd\n",
    "import numpy as np\n",
    "\n",
    "import scrapy\n",
    "import requests\n",
    "from scrapy import Selector\n",
    "\n",
    "import os\n",
    "import sys\n",
    "import datetime\n",
    "\n",
    "from selenium import webdriver\n",
    "from selenium.webdriver.common.keys import Keys\n",
    "from selenium.common.exceptions import NoSuchElementException, WebDriverException, ElementNotInteractableException\n",
    "from selenium.webdriver.common.action_chains import ActionChains\n",
    "from selenium.webdriver.support import expected_conditions as EC\n",
    "from selenium.webdriver.common.by import By\n",
    "from selenium.webdriver.support.ui import WebDriverWait as wait\n",
    "from selenium.webdriver.chrome.options import Options\n",
    "\n",
    "import re\n",
    "import time\n",
    "import uuid\n",
    "from random import randint\n",
    "from itertools import compress\n",
    "import json\n",
    "\n",
    "import pprint\n",
    "pp = pprint.PrettyPrinter()"
   ]
  },
  {
   "cell_type": "markdown",
   "metadata": {},
   "source": [
    "## Aviser"
   ]
  },
  {
   "cell_type": "markdown",
   "metadata": {},
   "source": [
    "### Politiken"
   ]
  },
  {
   "cell_type": "code",
   "execution_count": null,
   "metadata": {},
   "outputs": [],
   "source": [
    "# Front-page\n",
    "url = 'https://politiken.dk/'\n",
    "\n",
    "# Selector\n",
    "front_sel = \"section.frontpage__section.frontpage__section--top\""
   ]
  },
  {
   "cell_type": "markdown",
   "metadata": {},
   "source": [
    "#### Using scrapy"
   ]
  },
  {
   "cell_type": "code",
   "execution_count": null,
   "metadata": {},
   "outputs": [],
   "source": [
    "page_url = url\n",
    "page_html = requests.get(page_url).content\n",
    "page_sel = Selector(text = page_html)\n",
    "\n",
    "front_page = page_sel.css(front_sel)\n",
    "\n",
    "links = front_page.css('a::attr(href)').extract()"
   ]
  },
  {
   "cell_type": "code",
   "execution_count": null,
   "metadata": {},
   "outputs": [],
   "source": [
    "import pprint\n",
    "\n",
    "front_html = front_page.getall()\n",
    "\n",
    "pp = pprint.PrettyPrinter()\n",
    "\n",
    "pp.pprint(front_html)"
   ]
  },
  {
   "cell_type": "code",
   "execution_count": null,
   "metadata": {},
   "outputs": [],
   "source": [
    "headlines = front_page.css(\"h2\")\n",
    "\n",
    "headlines_ext = list()\n",
    "\n",
    "keywords = ['s']\n",
    "\n",
    "def text_ext(keywords, text):\n",
    "    if any(word in text for word in keywords):\n",
    "        return True\n",
    "    else:\n",
    "        return False\n",
    "\n",
    "for headline in headlines:\n",
    "    text = headline.css(\" ::text\").getall()\n",
    "    text = ' '.join(text)\n",
    "    text_l = text.lower()\n",
    "    if text_ext(keywords, text_l) == True:\n",
    "        headlines_ext.append(headline)\n",
    "\n",
    "print(len(headlines),\n",
    "      len(headlines_ext))"
   ]
  },
  {
   "cell_type": "code",
   "execution_count": null,
   "metadata": {},
   "outputs": [],
   "source": [
    "filter_links = list()\n",
    "for headline in headlines_ext:\n",
    "    filter_links.append(headline.css(\"a::attr(href)\").get())\n",
    "\n",
    "filter_links"
   ]
  },
  {
   "cell_type": "markdown",
   "metadata": {},
   "source": [
    "Follow filtered links:"
   ]
  },
  {
   "cell_type": "code",
   "execution_count": null,
   "metadata": {},
   "outputs": [],
   "source": [
    "title_sel = \"title ::text\"\n",
    "datetime_xpath = '//meta[contains(@property,\"article:published_time\")]/@content'\n",
    "\n",
    "page_title = page_sel.css(title_sel).get()\n",
    "page_datetime = page_sel.xpath(datetime_xpath).get()\n",
    "\n",
    "print(page_title,\n",
    "     page_datetime)"
   ]
  },
  {
   "cell_type": "code",
   "execution_count": null,
   "metadata": {},
   "outputs": [],
   "source": [
    "page_url = filter_links[0]\n",
    "page_html = requests.get(page_url).content\n",
    "page_sel = Selector(text = page_html)\n",
    "\n",
    "pp = pprint.PrettyPrinter()\n",
    "\n",
    "pp.pprint(page_sel.getall())"
   ]
  },
  {
   "cell_type": "markdown",
   "metadata": {},
   "source": [
    "### Berlingske"
   ]
  },
  {
   "cell_type": "code",
   "execution_count": null,
   "metadata": {},
   "outputs": [],
   "source": [
    "# Front-page\n",
    "url = 'https://www.berlingske.dk/'\n",
    "\n",
    "# Selector\n",
    "front_sel = \"div.front.theme-berlingske\""
   ]
  },
  {
   "cell_type": "markdown",
   "metadata": {},
   "source": [
    "Get HTML and selector:"
   ]
  },
  {
   "cell_type": "code",
   "execution_count": null,
   "metadata": {},
   "outputs": [],
   "source": [
    "page_url = url\n",
    "page_html = requests.get(page_url).content\n",
    "page_sel = Selector(text = page_html)\n",
    "\n",
    "front_page = page_sel.css(front_sel)"
   ]
  },
  {
   "cell_type": "markdown",
   "metadata": {},
   "source": [
    "Get headlines."
   ]
  },
  {
   "cell_type": "code",
   "execution_count": null,
   "metadata": {},
   "outputs": [],
   "source": [
    "headline_xpath = '//article/div/a[contains(@class,\"dre-item\")]'\n",
    "\n",
    "headlines = front_page.xpath(headline_xpath)"
   ]
  },
  {
   "cell_type": "markdown",
   "metadata": {},
   "source": [
    "Check headlines for keywords."
   ]
  },
  {
   "cell_type": "code",
   "execution_count": null,
   "metadata": {},
   "outputs": [],
   "source": [
    "#define functions\n",
    "def keyword_check(keywords, headline):\n",
    "    text = headline.css(\"div ::text\").getall()\n",
    "    text = ' '.join(text)\n",
    "    text = text.lower()\n",
    "    if any(word in text for word in keywords):\n",
    "        return True\n",
    "    else:\n",
    "        return False\n",
    "\n",
    "headlines_ext = list()\n",
    "keywords = ['maskine', 'danmark', 'møder']\n",
    "\n",
    "for headline in headlines:\n",
    "        if keyword_check(keywords, headline) == True:\n",
    "            headlines_ext.append(headline)\n",
    "\n",
    "len(headlines_ext)"
   ]
  },
  {
   "cell_type": "markdown",
   "metadata": {},
   "source": [
    "Get links."
   ]
  },
  {
   "cell_type": "code",
   "execution_count": null,
   "metadata": {},
   "outputs": [],
   "source": [
    "links_ext = list()\n",
    "for headline in headlines_ext:\n",
    "    links_ext.append(headline.css(\"::attr(href)\").get())\n",
    "links_ext = list(filter(None, links_ext))\n",
    "\n",
    "print(links_ext)"
   ]
  },
  {
   "cell_type": "markdown",
   "metadata": {},
   "source": [
    "Collect."
   ]
  },
  {
   "cell_type": "code",
   "execution_count": null,
   "metadata": {},
   "outputs": [],
   "source": [
    "headline = headlines_ext[0]\n",
    "\n",
    "def get_headline(healine_sel):\n",
    "    headline = Selector(text = healine_sel.css(\"div:first-of-type\").get()).css(' ::text').getall()\n",
    "    headline = ''.join(headline)\n",
    "    headline = headline.lower()\n",
    "    headline = re.sub('\\n', ' ', headline)\n",
    "    headline = re.sub('\\s\\s', '', headline)\n",
    "    headline = re.sub('\\s\\s', '', headline)\n",
    "    return(headline)\n",
    "\n",
    "frontpage_title = get_headline(headline)\n",
    "article_link = headline.css(\"::attr(href)\").get()\n",
    "\n",
    "info = dict()\n",
    "\n",
    "html = requests.get(article_link).content\n",
    "sel = Selector(text = html)\n",
    "\n",
    "art_uuid = str(uuid.uuid4())\n",
    "encounter_time = datetime.datetime.now().strftime('%Y-%m-%d %H:%M')\n",
    "\n",
    "title_sel = \"title ::text\"\n",
    "datetime_xpath = '//meta[contains(@property,\"article:published_time\")]/@content'\n",
    "\n",
    "article_title = sel.css(title_sel).get()\n",
    "article_datetime = sel.xpath(datetime_xpath).get()\n",
    "\n",
    "matches = list(compress(keywords, [keyword in frontpage_title for keyword in keywords]))\n",
    "\n",
    "info['uuid'] = art_uuid\n",
    "info['article_accessed'] = 1\n",
    "info['newspaper_name'] = 'Berlingske'\n",
    "info['newspaper_frontpage_url'] = 'https://www.berlingske.dk/'\n",
    "info['frontpage_selector'] = \"div.front.theme-berlingske\"\n",
    "info['keywords_search'] = keywords\n",
    "info['keywords_match'] = matches\n",
    "info['article_title'] = article_title\n",
    "info['frontpage_title'] = frontpage_title\n",
    "info['article_link'] = article_link\n",
    "info['article_datetime'] = article_datetime\n",
    "info['encounter_datetime'] = encounter_time"
   ]
  },
  {
   "cell_type": "code",
   "execution_count": null,
   "metadata": {},
   "outputs": [],
   "source": [
    "info"
   ]
  },
  {
   "cell_type": "code",
   "execution_count": null,
   "metadata": {},
   "outputs": [],
   "source": []
  }
 ],
 "metadata": {
  "kernelspec": {
   "display_name": "Python 3",
   "language": "python",
   "name": "python3"
  },
  "language_info": {
   "codemirror_mode": {
    "name": "ipython",
    "version": 3
   },
   "file_extension": ".py",
   "mimetype": "text/x-python",
   "name": "python",
   "nbconvert_exporter": "python",
   "pygments_lexer": "ipython3",
   "version": "3.7.7"
  }
 },
 "nbformat": 4,
 "nbformat_minor": 4
}
