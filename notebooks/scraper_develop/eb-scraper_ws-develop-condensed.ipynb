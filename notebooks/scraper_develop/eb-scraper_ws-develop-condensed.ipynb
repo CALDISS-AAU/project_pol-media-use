{
 "cells": [
  {
   "cell_type": "code",
   "execution_count": null,
   "metadata": {},
   "outputs": [],
   "source": [
    "import requests\n",
    "from bs4 import BeautifulSoup as bs\n",
    "import numpy as np\n",
    "import time\n",
    "from urllib.parse import urljoin\n",
    "import pandas as pd"
   ]
  },
  {
   "cell_type": "code",
   "execution_count": null,
   "metadata": {},
   "outputs": [],
   "source": [
    "response = requests.get('https://ekstrabladet.dk/nyheder/politik/')\n",
    "\n",
    "eb_html = response.content\n",
    "\n",
    "ebsoup = bs(eb_html, \"html.parser\")"
   ]
  },
  {
   "cell_type": "code",
   "execution_count": null,
   "metadata": {},
   "outputs": [],
   "source": [
    "section_soup = ebsoup.find('div', class_ = 'flex flex-wrap--wrap flex-justify--between') # Sektion uden mest læste og top\n",
    "link_soups = section_soup.find_all('a') # Links"
   ]
  },
  {
   "cell_type": "code",
   "execution_count": null,
   "metadata": {},
   "outputs": [],
   "source": [
    "# Links og headlines - kondenseret\n",
    "\n",
    "links = []\n",
    "headlines = []\n",
    "\n",
    "for link_soup in link_soups:\n",
    "    links.append(link_soup['href'])\n",
    "    headlines.append(link_soup.find('h2').get_text(strip = True))"
   ]
  },
  {
   "cell_type": "code",
   "execution_count": null,
   "metadata": {},
   "outputs": [],
   "source": [
    "def eb_article_scrape(url):\n",
    "    article_dict = {}\n",
    "    \n",
    "    response = requests.get(url)\n",
    "    html = response.content\n",
    "    artsoup = bs(html, \"html.parser\")\n",
    "    \n",
    "    artdate = artsoup.find('span', class_ = \"article-timestamp--top\").get_text(strip = True)\n",
    "    artdate2 = artsoup.find('meta', attrs = {'property': 'og:article:published_time'})['content']\n",
    "    \n",
    "    try:\n",
    "        ncomments = artsoup.find('span', id = 'fnTalkCommentText').get_text()\n",
    "        ncomments_int = int(re.sub(r'\\s.*', '', ncomments))\n",
    "    except AttributeError: \n",
    "        ncomments_int = np.nan\n",
    "    \n",
    "    try:\n",
    "        extlinks = [extlink_soup['href'] for extlink_soup in artsoup.find('div', class_ = 'article-bodytext').find_all('a')]\n",
    "    except AttributeError:\n",
    "        extlinks = \"\"\n",
    "    \n",
    "    try:\n",
    "        author = artsoup.find('span', attrs = {'itemprop': 'author'}).get_text(strip = True)\n",
    "    except AttributeError:\n",
    "        author = \"\"\n",
    "    \n",
    "    article_dict['source_code'] = str(artsoup)\n",
    "    article_dict['artdate_printed'] = artdate\n",
    "    article_dict['artdate_meta'] = artdate2\n",
    "    article_dict['ncomments'] = ncomments_int\n",
    "    article_dict['extlinks'] = extlinks\n",
    "    article_dict['author'] = author\n",
    "    article_dict['article_url'] = url\n",
    "    \n",
    "    return(article_dict)"
   ]
  },
  {
   "cell_type": "code",
   "execution_count": null,
   "metadata": {},
   "outputs": [],
   "source": [
    "new_links = [urljoin(\"https://ekstrabladet.dk\", link) for link in links]"
   ]
  },
  {
   "cell_type": "code",
   "execution_count": null,
   "metadata": {},
   "outputs": [],
   "source": [
    "articles = []\n",
    "\n",
    "for c, link in enumerate(new_links, start = 1):\n",
    "    articles.append(eb_article_scrape(link))\n",
    "    \n",
    "    print(\"{:.2f}%\".format(100.0 * c/len(new_links)), end = '\\r')\n",
    "    \n",
    "    time.sleep(2)"
   ]
  },
  {
   "cell_type": "code",
   "execution_count": null,
   "metadata": {},
   "outputs": [],
   "source": [
    "data = pd.DataFrame.from_records(articles)"
   ]
  }
 ],
 "metadata": {
  "kernelspec": {
   "display_name": "Python 3",
   "language": "python",
   "name": "python3"
  },
  "language_info": {
   "codemirror_mode": {
    "name": "ipython",
    "version": 3
   },
   "file_extension": ".py",
   "mimetype": "text/x-python",
   "name": "python",
   "nbconvert_exporter": "python",
   "pygments_lexer": "ipython3",
   "version": "3.7.9"
  }
 },
 "nbformat": 4,
 "nbformat_minor": 4
}
