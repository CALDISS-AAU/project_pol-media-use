{
 "cells": [
  {
   "cell_type": "markdown",
   "metadata": {},
   "source": [
    "**Analyseindhold**\n",
    "\n",
    "- Deskriptivt:\n",
    "    - Hvor mange opslag?\n",
    "    - Hvor ofte bliver politikere nævnt? (sammenligninger, over tid)\n",
    "    - Formål: Kontrastering mellem \"faktisk\" adfærd og det, som de beskriver i interviews\n",
    "    \n",
    "- Undersøge \"tværmediale strategier\"\n",
    "    - Hvordan politikere bruger nye og traditionelle medier\n",
    "    - \"crosspromotion\"\n",
    "    - Hvordan politikere linker til artikler, som de selv optræder i?\n",
    "      \n",
    "- "
   ]
  }
 ],
 "metadata": {
  "kernelspec": {
   "display_name": "Python 3",
   "language": "python",
   "name": "python3"
  },
  "language_info": {
   "codemirror_mode": {
    "name": "ipython",
    "version": 3
   },
   "file_extension": ".py",
   "mimetype": "text/x-python",
   "name": "python",
   "nbconvert_exporter": "python",
   "pygments_lexer": "ipython3",
   "version": "3.7.9"
  }
 },
 "nbformat": 4,
 "nbformat_minor": 4
}
