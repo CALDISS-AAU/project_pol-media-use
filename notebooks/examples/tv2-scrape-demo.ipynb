{
 "cells": [
  {
   "cell_type": "code",
   "execution_count": 2,
   "metadata": {},
   "outputs": [],
   "source": [
    "import requests\n",
    "from bs4 import BeautifulSoup as bs"
   ]
  },
  {
   "cell_type": "code",
   "execution_count": 3,
   "metadata": {},
   "outputs": [],
   "source": [
    "response = requests.get('https://nyheder.tv2.dk/')\n",
    "\n",
    "tv2_html = response.content\n",
    "\n",
    "tv2soup = bs(tv2_html, \"html.parser\")"
   ]
  },
  {
   "cell_type": "code",
   "execution_count": 5,
   "metadata": {},
   "outputs": [],
   "source": [
    "section_soup = tv2soup.find(\"section\", class_ = \"o-deck g-con g-col g-row_l g-gutter g-colx\")"
   ]
  },
  {
   "cell_type": "code",
   "execution_count": 10,
   "metadata": {},
   "outputs": [
    {
     "name": "stdout",
     "output_type": "stream",
     "text": [
      "['Dåhjorte indtager dansk lufthavn - her er de vilde dyr også rykket ind under corona', 'Overblik: Hvilke lande vaccinerer flest – og hvor mange i Danmark er blevet vaccineret?', 'Minister hives i nyt samråd om skandaleinterview: - Ligner en ren Trump', 'Hvornår er isen sikker? Her er meteorologens regneregel', 'Heunicke skal forklare kommuners indblanding i testprioritering', 'Højeste risikovurdering fastholdes, selvom smittetallet falder', 'Bekymring hos WHO: - Virussen har stadig overhånden i forhold til mennesket', 'LIVEVirolog: Virus kan være på vej mod sin optimale variant', 'Hvornår er isen sikker? Her er meteorologens regneregel', 'Minister hives i nyt samråd om skandaleinterview: - Ligner en ren Trump', 'Overblik: Hvilke lande vaccinerer flest – og hvor mange i Danmark er blevet vaccineret?']\n"
     ]
    }
   ],
   "source": [
    "headline_soups = section_soup.find_all(\"h2\", class_ = \"o-teaser_headline\")\n",
    "headlines = []\n",
    "\n",
    "for headline_soup in headline_soups:\n",
    "    headlines.append(headline_soup.get_text(strip = True))\n",
    "\n",
    "print(headlines)"
   ]
  },
  {
   "cell_type": "code",
   "execution_count": 12,
   "metadata": {},
   "outputs": [],
   "source": [
    "link_soups = section_soup.find_all(\"a\", class_ = \"o-teaser_link\")"
   ]
  },
  {
   "cell_type": "code",
   "execution_count": 14,
   "metadata": {},
   "outputs": [
    {
     "data": {
      "text/plain": [
       "['//nyheder.tv2.dk/udland/2021-02-05-daahjorte-indtager-dansk-lufthavn-her-er-de-vilde-dyr-ogsaa-rykket-ind-under',\n",
       " '//nyheder.tv2.dk/samfund/2020-12-09-overblik-saadan-er-status-paa-corona-vaccinen-lige-nu',\n",
       " '//nyheder.tv2.dk/politik/2021-02-05-minister-hives-i-nyt-samraad-om-skandaleinterview-ligner-en-ren-trump',\n",
       " '//nyheder.tv2.dk/samfund/2021-02-05-hvornaar-er-isen-sikker-her-er-meteorologens-regneregel',\n",
       " '//nyheder.tv2.dk/politik/2021-02-05-heunicke-skal-forklare-kommuners-indblanding-i-testprioritering',\n",
       " '//nyheder.tv2.dk/samfund/2021-02-05-hojeste-risikovurdering-fastholdes-selvom-smittetallet-falder',\n",
       " '//nyheder.tv2.dk/udland/2021-02-05-bekymring-hos-who-virussen-har-stadig-overhaanden-i-forhold-til-mennesket',\n",
       " '//nyheder.tv2.dk/2021-02-05-seneste-nyt-om-coronavirus',\n",
       " '//nyheder.tv2.dk/samfund/2021-02-05-hvornaar-er-isen-sikker-her-er-meteorologens-regneregel',\n",
       " '//nyheder.tv2.dk/politik/2021-02-05-minister-hives-i-nyt-samraad-om-skandaleinterview-ligner-en-ren-trump',\n",
       " '//nyheder.tv2.dk/samfund/2020-12-09-overblik-saadan-er-status-paa-corona-vaccinen-lige-nu']"
      ]
     },
     "execution_count": 14,
     "metadata": {},
     "output_type": "execute_result"
    }
   ],
   "source": [
    "links = []\n",
    "\n",
    "for link_soup in link_soups:\n",
    "    links.append(link_soup['href'])\n",
    "    \n",
    "links"
   ]
  },
  {
   "cell_type": "code",
   "execution_count": null,
   "metadata": {},
   "outputs": [],
   "source": []
  }
 ],
 "metadata": {
  "kernelspec": {
   "display_name": "Python 3",
   "language": "python",
   "name": "python3"
  },
  "language_info": {
   "codemirror_mode": {
    "name": "ipython",
    "version": 3
   },
   "file_extension": ".py",
   "mimetype": "text/x-python",
   "name": "python",
   "nbconvert_exporter": "python",
   "pygments_lexer": "ipython3",
   "version": "3.7.4"
  }
 },
 "nbformat": 4,
 "nbformat_minor": 4
}
