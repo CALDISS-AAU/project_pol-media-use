{
 "cells": [
  {
   "cell_type": "code",
   "execution_count": 1,
   "metadata": {},
   "outputs": [],
   "source": [
    "#!/usr/bin/env python\n",
    "\n",
    "import os\n",
    "import sys\n",
    "\n",
    "projectdir = os.path.join(\"..\")\n",
    "modulesdir = os.path.join(projectdir, \"modules\")\n",
    "datadir = os.path.join(projectdir, \"data\")\n",
    "logdir = os.path.join(projectdir, \"logs\")\n",
    "\n",
    "sys.path.insert(0, modulesdir)\n",
    "\n",
    "import json\n",
    "import time\n",
    "from datetime import datetime\n",
    "import fp_watcherTester as fp_watcher\n",
    "\n",
    "if not os.path.isdir(datadir):\n",
    "    os.mkdir(datadir)\n",
    "\n",
    "def main():\n",
    "    \n",
    "    #Parameters for watch\n",
    "    keywords = [r\".*\"]\n",
    "\n",
    "    sources = [\"EB\"]\n",
    "    \n",
    "    dt_now = datetime.now()\n",
    "\n",
    "    for source in sources:\n",
    "        print(\"{time}: Checking {source} front page...\".format(time = dt_now, source = source))\n",
    "        \n",
    "        try:\n",
    "            fp_watcher.headline_watch(source = source, keywords = keywords, datadir = datadir)\n",
    "        except Exception as e:\n",
    "            print(\"Failed to run watch on {source}: \".format(source = source) + str(e))"
   ]
  },
  {
   "cell_type": "code",
   "execution_count": 2,
   "metadata": {},
   "outputs": [
    {
     "name": "stdout",
     "output_type": "stream",
     "text": [
      "2022-02-03 15:35:10.257187: Checking EB front page...\n",
      "No existing url list. Creating new file eb_article_urls.txt\n",
      "EB front page checked on 2022-02-03 15:35:54.788990. 20 new articles found.\n"
     ]
    }
   ],
   "source": [
    "main()"
   ]
  },
  {
   "cell_type": "code",
   "execution_count": null,
   "metadata": {},
   "outputs": [],
   "source": []
  }
 ],
 "metadata": {
  "kernelspec": {
   "display_name": "Python 3",
   "language": "python",
   "name": "python3"
  },
  "language_info": {
   "codemirror_mode": {
    "name": "ipython",
    "version": 3
   },
   "file_extension": ".py",
   "mimetype": "text/x-python",
   "name": "python",
   "nbconvert_exporter": "python",
   "pygments_lexer": "ipython3",
   "version": "3.7.9"
  }
 },
 "nbformat": 4,
 "nbformat_minor": 4
}
