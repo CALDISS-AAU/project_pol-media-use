{
 "cells": [
  {
   "cell_type": "code",
   "execution_count": 1,
   "metadata": {},
   "outputs": [],
   "source": [
    "import pandas as pd"
   ]
  },
  {
   "cell_type": "code",
   "execution_count": 6,
   "metadata": {},
   "outputs": [],
   "source": [
    "tweets = pd.read_csv(\"../data/data/tweets/pol_tweets.csv\")\n",
    "\n",
    "def newline_fix(tweet):\n",
    "    new_tweet = tweet.replace('\\n', ' ')\n",
    "    return(new_tweet)\n",
    "\n",
    "tweets['tweet'] = tweets['tweet'].map(newline_fix)\n",
    "\n",
    "tweets.to_csv(\"../data/data/tweets/pol_tweets_fix-newline.csv\", index = False, encoding = \"utf-8\")"
   ]
  }
 ],
 "metadata": {
  "kernelspec": {
   "display_name": "Python 3",
   "language": "python",
   "name": "python3"
  },
  "language_info": {
   "codemirror_mode": {
    "name": "ipython",
    "version": 3
   },
   "file_extension": ".py",
   "mimetype": "text/x-python",
   "name": "python",
   "nbconvert_exporter": "python",
   "pygments_lexer": "ipython3",
   "version": "3.6.10"
  }
 },
 "nbformat": 4,
 "nbformat_minor": 4
}
