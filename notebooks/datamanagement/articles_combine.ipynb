{
 "cells": [
  {
   "cell_type": "code",
   "execution_count": 6,
   "metadata": {},
   "outputs": [],
   "source": [
    "import pandas as pd\n",
    "import json\n",
    "from os import listdir\n",
    "from os.path import isfile, join\n",
    "import re"
   ]
  },
  {
   "cell_type": "code",
   "execution_count": 7,
   "metadata": {},
   "outputs": [],
   "source": [
    "datapath = '../../data/articles/'\n",
    "\n",
    "datafiles = [join(datapath,f) for f in listdir(datapath) if isfile(join(datapath, f))]\n",
    "\n",
    "datafiles = [datafile for datafile in datafiles if re.match(r'.*\\.json', datafile)]"
   ]
  },
  {
   "cell_type": "code",
   "execution_count": 38,
   "metadata": {},
   "outputs": [
    {
     "name": "stdout",
     "output_type": "stream",
     "text": [
      "100.00%\r"
     ]
    },
    {
     "data": {
      "text/html": [
       "<div>\n",
       "<style scoped>\n",
       "    .dataframe tbody tr th:only-of-type {\n",
       "        vertical-align: middle;\n",
       "    }\n",
       "\n",
       "    .dataframe tbody tr th {\n",
       "        vertical-align: top;\n",
       "    }\n",
       "\n",
       "    .dataframe thead th {\n",
       "        text-align: right;\n",
       "    }\n",
       "</style>\n",
       "<table border=\"1\" class=\"dataframe\">\n",
       "  <thead>\n",
       "    <tr style=\"text-align: right;\">\n",
       "      <th></th>\n",
       "      <th>uuid</th>\n",
       "      <th>article_accessed</th>\n",
       "      <th>newspaper_name</th>\n",
       "      <th>newspaper_frontpage_url</th>\n",
       "      <th>keywords_search</th>\n",
       "      <th>keywords_match</th>\n",
       "      <th>article_title</th>\n",
       "      <th>article_link</th>\n",
       "      <th>article_datetime</th>\n",
       "      <th>encounter_datetime</th>\n",
       "      <th>article_source</th>\n",
       "    </tr>\n",
       "  </thead>\n",
       "  <tbody>\n",
       "    <tr>\n",
       "      <th>0</th>\n",
       "      <td>34112e99-fd13-47f9-8b1a-2d8f06f184d2</td>\n",
       "      <td>1</td>\n",
       "      <td>Berlingske</td>\n",
       "      <td>https://www.berlingske.dk/nyheder/politik/</td>\n",
       "      <td>[.*]</td>\n",
       "      <td>[]</td>\n",
       "      <td>Landmænd om aflivning af mink: Det ligner dyre...</td>\n",
       "      <td>https://www.berlingske.dk/politik/landmaend-om...</td>\n",
       "      <td>2020-11-09T15:58:00+01:00</td>\n",
       "      <td>2020-11-09 16:47</td>\n",
       "      <td>&lt;!DOCTYPE html&gt;\\n\\n&lt;html lang=\"da\"&gt;\\n&lt;head&gt;\\n&lt;...</td>\n",
       "    </tr>\n",
       "    <tr>\n",
       "      <th>1</th>\n",
       "      <td>24b37711-066f-4465-ba75-e768d107bcbd</td>\n",
       "      <td>1</td>\n",
       "      <td>Berlingske</td>\n",
       "      <td>https://www.berlingske.dk/nyheder/politik/</td>\n",
       "      <td>[.*]</td>\n",
       "      <td>[]</td>\n",
       "      <td>Støttepartier inden forhandlinger: Fint at slå...</td>\n",
       "      <td>https://www.berlingske.dk/politik/stoetteparti...</td>\n",
       "      <td>2020-11-09T13:03:00+01:00</td>\n",
       "      <td>2020-11-09 16:47</td>\n",
       "      <td>&lt;!DOCTYPE html&gt;\\n\\n&lt;html lang=\"da\"&gt;\\n&lt;head&gt;\\n&lt;...</td>\n",
       "    </tr>\n",
       "    <tr>\n",
       "      <th>2</th>\n",
       "      <td>134f8df7-20fd-4ff6-8f0b-7aef4cfade82</td>\n",
       "      <td>1</td>\n",
       "      <td>Berlingske</td>\n",
       "      <td>https://www.berlingske.dk/nyheder/politik/</td>\n",
       "      <td>[.*]</td>\n",
       "      <td>[]</td>\n",
       "      <td>Ingen politisk aftale om mink-kompensation mandag</td>\n",
       "      <td>https://www.berlingske.dk/politik/ingen-politi...</td>\n",
       "      <td>2020-11-09T17:10:00+01:00</td>\n",
       "      <td>2020-11-09 17:42</td>\n",
       "      <td>&lt;!DOCTYPE html&gt;\\n\\n&lt;html lang=\"da\"&gt;\\n&lt;head&gt;\\n&lt;...</td>\n",
       "    </tr>\n",
       "    <tr>\n",
       "      <th>3</th>\n",
       "      <td>2da357c7-8031-4b1e-9635-9d4c87e8f35c</td>\n",
       "      <td>1</td>\n",
       "      <td>Berlingske</td>\n",
       "      <td>https://www.berlingske.dk/nyheder/politik/</td>\n",
       "      <td>[.*]</td>\n",
       "      <td>[]</td>\n",
       "      <td>Fødevarestyrelsen har »grundlovsstridigt« beor...</td>\n",
       "      <td>https://www.berlingske.dk/politik/foedevaresty...</td>\n",
       "      <td>2020-11-09T19:19:00+01:00</td>\n",
       "      <td>2020-11-09 19:22</td>\n",
       "      <td>&lt;!DOCTYPE html&gt;\\n\\n&lt;html lang=\"da\"&gt;\\n&lt;head&gt;\\n&lt;...</td>\n",
       "    </tr>\n",
       "    <tr>\n",
       "      <th>4</th>\n",
       "      <td>525a1b09-bc64-4d84-a9d2-3576cff5f785</td>\n",
       "      <td>1</td>\n",
       "      <td>Berlingske</td>\n",
       "      <td>https://www.berlingske.dk/nyheder/politik/</td>\n",
       "      <td>[.*]</td>\n",
       "      <td>[]</td>\n",
       "      <td>En e-mail skabte sent søndag aften oprør i Ven...</td>\n",
       "      <td>https://www.berlingske.dk/politik/en-e-mail-sk...</td>\n",
       "      <td>2020-11-09T19:47:00+01:00</td>\n",
       "      <td>2020-11-09 20:15</td>\n",
       "      <td>&lt;!DOCTYPE html&gt;\\n\\n&lt;html lang=\"da\"&gt;\\n&lt;head&gt;\\n&lt;...</td>\n",
       "    </tr>\n",
       "  </tbody>\n",
       "</table>\n",
       "</div>"
      ],
      "text/plain": [
       "                                   uuid  article_accessed newspaper_name  \\\n",
       "0  34112e99-fd13-47f9-8b1a-2d8f06f184d2                 1     Berlingske   \n",
       "1  24b37711-066f-4465-ba75-e768d107bcbd                 1     Berlingske   \n",
       "2  134f8df7-20fd-4ff6-8f0b-7aef4cfade82                 1     Berlingske   \n",
       "3  2da357c7-8031-4b1e-9635-9d4c87e8f35c                 1     Berlingske   \n",
       "4  525a1b09-bc64-4d84-a9d2-3576cff5f785                 1     Berlingske   \n",
       "\n",
       "                      newspaper_frontpage_url keywords_search keywords_match  \\\n",
       "0  https://www.berlingske.dk/nyheder/politik/            [.*]             []   \n",
       "1  https://www.berlingske.dk/nyheder/politik/            [.*]             []   \n",
       "2  https://www.berlingske.dk/nyheder/politik/            [.*]             []   \n",
       "3  https://www.berlingske.dk/nyheder/politik/            [.*]             []   \n",
       "4  https://www.berlingske.dk/nyheder/politik/            [.*]             []   \n",
       "\n",
       "                                       article_title  \\\n",
       "0  Landmænd om aflivning af mink: Det ligner dyre...   \n",
       "1  Støttepartier inden forhandlinger: Fint at slå...   \n",
       "2  Ingen politisk aftale om mink-kompensation mandag   \n",
       "3  Fødevarestyrelsen har »grundlovsstridigt« beor...   \n",
       "4  En e-mail skabte sent søndag aften oprør i Ven...   \n",
       "\n",
       "                                        article_link  \\\n",
       "0  https://www.berlingske.dk/politik/landmaend-om...   \n",
       "1  https://www.berlingske.dk/politik/stoetteparti...   \n",
       "2  https://www.berlingske.dk/politik/ingen-politi...   \n",
       "3  https://www.berlingske.dk/politik/foedevaresty...   \n",
       "4  https://www.berlingske.dk/politik/en-e-mail-sk...   \n",
       "\n",
       "            article_datetime encounter_datetime  \\\n",
       "0  2020-11-09T15:58:00+01:00   2020-11-09 16:47   \n",
       "1  2020-11-09T13:03:00+01:00   2020-11-09 16:47   \n",
       "2  2020-11-09T17:10:00+01:00   2020-11-09 17:42   \n",
       "3  2020-11-09T19:19:00+01:00   2020-11-09 19:22   \n",
       "4  2020-11-09T19:47:00+01:00   2020-11-09 20:15   \n",
       "\n",
       "                                      article_source  \n",
       "0  <!DOCTYPE html>\\n\\n<html lang=\"da\">\\n<head>\\n<...  \n",
       "1  <!DOCTYPE html>\\n\\n<html lang=\"da\">\\n<head>\\n<...  \n",
       "2  <!DOCTYPE html>\\n\\n<html lang=\"da\">\\n<head>\\n<...  \n",
       "3  <!DOCTYPE html>\\n\\n<html lang=\"da\">\\n<head>\\n<...  \n",
       "4  <!DOCTYPE html>\\n\\n<html lang=\"da\">\\n<head>\\n<...  "
      ]
     },
     "execution_count": 38,
     "metadata": {},
     "output_type": "execute_result"
    }
   ],
   "source": [
    "articles_df = pd.DataFrame()\n",
    "\n",
    "for c, datafile in enumerate(datafiles, start = 1):\n",
    "    articles_df = articles_df.append(pd.read_json(datafile), ignore_index = True)\n",
    "    \n",
    "    print(\"{:.2f}%\".format(100.0*c/len(datafiles)), end = \"\\r\")\n",
    "    \n",
    "articles_df.head()"
   ]
  },
  {
   "cell_type": "code",
   "execution_count": 42,
   "metadata": {},
   "outputs": [
    {
     "data": {
      "text/plain": [
       "Index(['uuid', 'article_accessed', 'newspaper_name', 'newspaper_frontpage_url',\n",
       "       'keywords_search', 'keywords_match', 'article_title', 'article_link',\n",
       "       'article_datetime', 'encounter_datetime', 'article_source'],\n",
       "      dtype='object')"
      ]
     },
     "execution_count": 42,
     "metadata": {},
     "output_type": "execute_result"
    }
   ],
   "source": [
    "articles_df.columns"
   ]
  },
  {
   "cell_type": "code",
   "execution_count": 43,
   "metadata": {},
   "outputs": [],
   "source": [
    "select_columns = ['uuid', 'article_accessed', 'newspaper_name', 'newspaper_frontpage_url', 'article_title', 'article_link', 'article_datetime', 'encounter_datetime']"
   ]
  },
  {
   "cell_type": "code",
   "execution_count": 44,
   "metadata": {},
   "outputs": [],
   "source": [
    "articles_select_df = articles_df.loc[:, select_columns]"
   ]
  },
  {
   "cell_type": "code",
   "execution_count": 47,
   "metadata": {},
   "outputs": [],
   "source": [
    "articles_select_df.to_csv('../../data/articles/articles_combined_20201201.csv')"
   ]
  }
 ],
 "metadata": {
  "kernelspec": {
   "display_name": "Python 3",
   "language": "python",
   "name": "python3"
  },
  "language_info": {
   "codemirror_mode": {
    "name": "ipython",
    "version": 3
   },
   "file_extension": ".py",
   "mimetype": "text/x-python",
   "name": "python",
   "nbconvert_exporter": "python",
   "pygments_lexer": "ipython3",
   "version": "3.7.9"
  }
 },
 "nbformat": 4,
 "nbformat_minor": 4
}
