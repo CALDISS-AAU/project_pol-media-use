{
 "cells": [
  {
   "cell_type": "code",
   "execution_count": 1,
   "metadata": {},
   "outputs": [],
   "source": [
    "import pandas as pd\n",
    "import json\n",
    "import os\n",
    "from os import listdir\n",
    "from os.path import isfile, join\n",
    "import re"
   ]
  },
  {
   "cell_type": "code",
   "execution_count": 2,
   "metadata": {},
   "outputs": [],
   "source": [
    "import sys\n",
    "modulesdir = os.path.join('..', '..', 'modules')\n",
    "\n",
    "sys.path.insert(0, modulesdir)\n",
    "\n",
    "from mp_checker import mp_check"
   ]
  },
  {
   "cell_type": "code",
   "execution_count": 16,
   "metadata": {},
   "outputs": [],
   "source": [
    "datapath = os.path.join('D:/', 'data',  'dk-news', 'articles_20210421_with-text')\n",
    "outdir = os.path.join('D:/', 'data',  'dk-news', 'latest_data')\n",
    "\n",
    "datafiles = [join(datapath,f) for f in listdir(datapath) if isfile(join(datapath, f))]\n",
    "datafiles = [datafile for datafile in datafiles if datafile.endswith('.json')]"
   ]
  },
  {
   "cell_type": "code",
   "execution_count": 41,
   "metadata": {},
   "outputs": [
    {
     "name": "stdout",
     "output_type": "stream",
     "text": [
      "what\n"
     ]
    }
   ],
   "source": [
    "try:\n",
    "    max([], key=os.path.getctime)\n",
    "except ValueError:\n",
    "    print(\"what\")"
   ]
  },
  {
   "cell_type": "code",
   "execution_count": 4,
   "metadata": {},
   "outputs": [],
   "source": [
    "# Combine articles to one list\n",
    "articles_combined = list()\n",
    "\n",
    "for datafile in datafiles:\n",
    "    with open(datafile, 'r', encoding = 'utf-8') as f:\n",
    "        articles = json.load(f)\n",
    "    \n",
    "    articles_combined = articles_combined + articles"
   ]
  },
  {
   "cell_type": "code",
   "execution_count": 5,
   "metadata": {},
   "outputs": [],
   "source": [
    "for entry in articles_combined:\n",
    "    entry.pop('article_source')"
   ]
  },
  {
   "cell_type": "code",
   "execution_count": 12,
   "metadata": {},
   "outputs": [],
   "source": [
    "for entry in articles_combined:\n",
    "    article_text = entry.get('article_text')\n",
    "    if article_text is not None:\n",
    "        entry['mp_matches'] = mp_check(article_text)\n",
    "    else:\n",
    "        entry['mp_matches'] = []\n",
    "        \n",
    "    if len(entry['mp_matches']) > 0:\n",
    "        entry['mp_match'] = 1\n",
    "    else:\n",
    "        entry['mp_match'] = 0"
   ]
  },
  {
   "cell_type": "code",
   "execution_count": 33,
   "metadata": {},
   "outputs": [
    {
     "data": {
      "text/plain": [
       "'2021-04-21 00:00'"
      ]
     },
     "execution_count": 33,
     "metadata": {},
     "output_type": "execute_result"
    }
   ],
   "source": [
    "dates = [article.get('encounter_datetime') for article in articles_combined]\n",
    "max(dates)"
   ]
  },
  {
   "cell_type": "code",
   "execution_count": 44,
   "metadata": {},
   "outputs": [
    {
     "data": {
      "text/plain": [
       "True"
      ]
     },
     "execution_count": 44,
     "metadata": {},
     "output_type": "execute_result"
    }
   ],
   "source": [
    "max(dates) > '0'"
   ]
  },
  {
   "cell_type": "code",
   "execution_count": 37,
   "metadata": {},
   "outputs": [],
   "source": [
    "dates.sort()"
   ]
  },
  {
   "cell_type": "code",
   "execution_count": 38,
   "metadata": {},
   "outputs": [
    {
     "data": {
      "text/plain": [
       "['2021-04-20 20:00',\n",
       " '2021-04-20 20:00',\n",
       " '2021-04-20 20:00',\n",
       " '2021-04-20 20:00',\n",
       " '2021-04-20 20:00',\n",
       " '2021-04-20 20:00',\n",
       " '2021-04-20 20:00',\n",
       " '2021-04-20 22:00',\n",
       " '2021-04-21 00:00',\n",
       " '2021-04-21 00:00']"
      ]
     },
     "execution_count": 38,
     "metadata": {},
     "output_type": "execute_result"
    }
   ],
   "source": [
    "dates[len(dates)-10:len(dates)+1]"
   ]
  },
  {
   "cell_type": "code",
   "execution_count": 30,
   "metadata": {},
   "outputs": [
    {
     "data": {
      "text/plain": [
       "False"
      ]
     },
     "execution_count": 30,
     "metadata": {},
     "output_type": "execute_result"
    }
   ],
   "source": [
    "articles_combined[0].get('encounter_datetime') == '2020-11-09'"
   ]
  },
  {
   "cell_type": "code",
   "execution_count": 13,
   "metadata": {},
   "outputs": [
    {
     "data": {
      "text/html": [
       "<div>\n",
       "<style scoped>\n",
       "    .dataframe tbody tr th:only-of-type {\n",
       "        vertical-align: middle;\n",
       "    }\n",
       "\n",
       "    .dataframe tbody tr th {\n",
       "        vertical-align: top;\n",
       "    }\n",
       "\n",
       "    .dataframe thead th {\n",
       "        text-align: right;\n",
       "    }\n",
       "</style>\n",
       "<table border=\"1\" class=\"dataframe\">\n",
       "  <thead>\n",
       "    <tr style=\"text-align: right;\">\n",
       "      <th></th>\n",
       "      <th>uuid</th>\n",
       "      <th>article_accessed</th>\n",
       "      <th>newspaper_name</th>\n",
       "      <th>newspaper_frontpage_url</th>\n",
       "      <th>keywords_search</th>\n",
       "      <th>keywords_match</th>\n",
       "      <th>article_title</th>\n",
       "      <th>article_link</th>\n",
       "      <th>article_datetime</th>\n",
       "      <th>encounter_datetime</th>\n",
       "      <th>article_paywall</th>\n",
       "      <th>article_text</th>\n",
       "      <th>mp_matches</th>\n",
       "      <th>mp_match</th>\n",
       "    </tr>\n",
       "  </thead>\n",
       "  <tbody>\n",
       "    <tr>\n",
       "      <th>0</th>\n",
       "      <td>34112e99-fd13-47f9-8b1a-2d8f06f184d2</td>\n",
       "      <td>1</td>\n",
       "      <td>Berlingske</td>\n",
       "      <td>https://www.berlingske.dk/nyheder/politik/</td>\n",
       "      <td>[.*]</td>\n",
       "      <td>[]</td>\n",
       "      <td>Landmænd om aflivning af mink: Det ligner dyre...</td>\n",
       "      <td>https://www.berlingske.dk/politik/landmaend-om...</td>\n",
       "      <td>2020-11-09T15:58:00+01:00</td>\n",
       "      <td>2020-11-09 16:47</td>\n",
       "      <td>False</td>\n",
       "      <td>\\n\\n\\nBrancheorganisationen Landbrug &amp; Fødevar...</td>\n",
       "      <td>[Søren Søndergaard]</td>\n",
       "      <td>1</td>\n",
       "    </tr>\n",
       "    <tr>\n",
       "      <th>1</th>\n",
       "      <td>24b37711-066f-4465-ba75-e768d107bcbd</td>\n",
       "      <td>1</td>\n",
       "      <td>Berlingske</td>\n",
       "      <td>https://www.berlingske.dk/nyheder/politik/</td>\n",
       "      <td>[.*]</td>\n",
       "      <td>[]</td>\n",
       "      <td>Støttepartier inden forhandlinger: Fint at slå...</td>\n",
       "      <td>https://www.berlingske.dk/politik/stoetteparti...</td>\n",
       "      <td>2020-11-09T13:03:00+01:00</td>\n",
       "      <td>2020-11-09 16:47</td>\n",
       "      <td>False</td>\n",
       "      <td>\\n\\n\\nDet er fornuftigt at kombinere efteråret...</td>\n",
       "      <td>[Nicolai Wammen, Pia Olsen Dyhr, Sofie Carsten...</td>\n",
       "      <td>1</td>\n",
       "    </tr>\n",
       "    <tr>\n",
       "      <th>2</th>\n",
       "      <td>134f8df7-20fd-4ff6-8f0b-7aef4cfade82</td>\n",
       "      <td>1</td>\n",
       "      <td>Berlingske</td>\n",
       "      <td>https://www.berlingske.dk/nyheder/politik/</td>\n",
       "      <td>[.*]</td>\n",
       "      <td>[]</td>\n",
       "      <td>Ingen politisk aftale om mink-kompensation mandag</td>\n",
       "      <td>https://www.berlingske.dk/politik/ingen-politi...</td>\n",
       "      <td>2020-11-09T17:10:00+01:00</td>\n",
       "      <td>2020-11-09 17:42</td>\n",
       "      <td>False</td>\n",
       "      <td>\\n\\n\\nFolketingets partier er mandag ikke blev...</td>\n",
       "      <td>[Lisbeth Bech-Nielsen, Simon Kollerup]</td>\n",
       "      <td>1</td>\n",
       "    </tr>\n",
       "    <tr>\n",
       "      <th>3</th>\n",
       "      <td>2da357c7-8031-4b1e-9635-9d4c87e8f35c</td>\n",
       "      <td>1</td>\n",
       "      <td>Berlingske</td>\n",
       "      <td>https://www.berlingske.dk/nyheder/politik/</td>\n",
       "      <td>[.*]</td>\n",
       "      <td>[]</td>\n",
       "      <td>Fødevarestyrelsen har »grundlovsstridigt« beor...</td>\n",
       "      <td>https://www.berlingske.dk/politik/foedevaresty...</td>\n",
       "      <td>2020-11-09T19:19:00+01:00</td>\n",
       "      <td>2020-11-09 19:22</td>\n",
       "      <td>True</td>\n",
       "      <td></td>\n",
       "      <td>[]</td>\n",
       "      <td>0</td>\n",
       "    </tr>\n",
       "    <tr>\n",
       "      <th>4</th>\n",
       "      <td>525a1b09-bc64-4d84-a9d2-3576cff5f785</td>\n",
       "      <td>1</td>\n",
       "      <td>Berlingske</td>\n",
       "      <td>https://www.berlingske.dk/nyheder/politik/</td>\n",
       "      <td>[.*]</td>\n",
       "      <td>[]</td>\n",
       "      <td>En e-mail skabte sent søndag aften oprør i Ven...</td>\n",
       "      <td>https://www.berlingske.dk/politik/en-e-mail-sk...</td>\n",
       "      <td>2020-11-09T19:47:00+01:00</td>\n",
       "      <td>2020-11-09 20:15</td>\n",
       "      <td>True</td>\n",
       "      <td></td>\n",
       "      <td>[]</td>\n",
       "      <td>0</td>\n",
       "    </tr>\n",
       "  </tbody>\n",
       "</table>\n",
       "</div>"
      ],
      "text/plain": [
       "                                   uuid  article_accessed newspaper_name  \\\n",
       "0  34112e99-fd13-47f9-8b1a-2d8f06f184d2                 1     Berlingske   \n",
       "1  24b37711-066f-4465-ba75-e768d107bcbd                 1     Berlingske   \n",
       "2  134f8df7-20fd-4ff6-8f0b-7aef4cfade82                 1     Berlingske   \n",
       "3  2da357c7-8031-4b1e-9635-9d4c87e8f35c                 1     Berlingske   \n",
       "4  525a1b09-bc64-4d84-a9d2-3576cff5f785                 1     Berlingske   \n",
       "\n",
       "                      newspaper_frontpage_url keywords_search keywords_match  \\\n",
       "0  https://www.berlingske.dk/nyheder/politik/            [.*]             []   \n",
       "1  https://www.berlingske.dk/nyheder/politik/            [.*]             []   \n",
       "2  https://www.berlingske.dk/nyheder/politik/            [.*]             []   \n",
       "3  https://www.berlingske.dk/nyheder/politik/            [.*]             []   \n",
       "4  https://www.berlingske.dk/nyheder/politik/            [.*]             []   \n",
       "\n",
       "                                       article_title  \\\n",
       "0  Landmænd om aflivning af mink: Det ligner dyre...   \n",
       "1  Støttepartier inden forhandlinger: Fint at slå...   \n",
       "2  Ingen politisk aftale om mink-kompensation mandag   \n",
       "3  Fødevarestyrelsen har »grundlovsstridigt« beor...   \n",
       "4  En e-mail skabte sent søndag aften oprør i Ven...   \n",
       "\n",
       "                                        article_link  \\\n",
       "0  https://www.berlingske.dk/politik/landmaend-om...   \n",
       "1  https://www.berlingske.dk/politik/stoetteparti...   \n",
       "2  https://www.berlingske.dk/politik/ingen-politi...   \n",
       "3  https://www.berlingske.dk/politik/foedevaresty...   \n",
       "4  https://www.berlingske.dk/politik/en-e-mail-sk...   \n",
       "\n",
       "            article_datetime encounter_datetime article_paywall  \\\n",
       "0  2020-11-09T15:58:00+01:00   2020-11-09 16:47           False   \n",
       "1  2020-11-09T13:03:00+01:00   2020-11-09 16:47           False   \n",
       "2  2020-11-09T17:10:00+01:00   2020-11-09 17:42           False   \n",
       "3  2020-11-09T19:19:00+01:00   2020-11-09 19:22            True   \n",
       "4  2020-11-09T19:47:00+01:00   2020-11-09 20:15            True   \n",
       "\n",
       "                                        article_text  \\\n",
       "0  \\n\\n\\nBrancheorganisationen Landbrug & Fødevar...   \n",
       "1  \\n\\n\\nDet er fornuftigt at kombinere efteråret...   \n",
       "2  \\n\\n\\nFolketingets partier er mandag ikke blev...   \n",
       "3                                                      \n",
       "4                                                      \n",
       "\n",
       "                                          mp_matches  mp_match  \n",
       "0                                [Søren Søndergaard]         1  \n",
       "1  [Nicolai Wammen, Pia Olsen Dyhr, Sofie Carsten...         1  \n",
       "2             [Lisbeth Bech-Nielsen, Simon Kollerup]         1  \n",
       "3                                                 []         0  \n",
       "4                                                 []         0  "
      ]
     },
     "execution_count": 13,
     "metadata": {},
     "output_type": "execute_result"
    }
   ],
   "source": [
    "articles_df = pd.DataFrame.from_records(articles_combined)\n",
    "\n",
    "articles_df.head()"
   ]
  },
  {
   "cell_type": "code",
   "execution_count": 17,
   "metadata": {},
   "outputs": [],
   "source": [
    "savename_csv = f\"articles_combined_2021-04-21.zip\"\n",
    "savename_json = f\"articles_combined_2021-04-21.json\"\n",
    "outpath_csv = os.path.join(outdir, savename_csv)\n",
    "outpath_json = os.path.join(outdir, savename_json)"
   ]
  },
  {
   "cell_type": "code",
   "execution_count": 18,
   "metadata": {},
   "outputs": [],
   "source": [
    "# output json\n",
    "\n",
    "with open(outpath_json, 'w', encoding = 'utf-8') as f:\n",
    "    json.dump(articles_combined, f)"
   ]
  },
  {
   "cell_type": "code",
   "execution_count": 19,
   "metadata": {},
   "outputs": [],
   "source": [
    "# output csv\n",
    "\n",
    "articles_df.to_csv(outpath_csv, index = False, compression = \"zip\")"
   ]
  },
  {
   "cell_type": "code",
   "execution_count": 20,
   "metadata": {},
   "outputs": [],
   "source": [
    "articles_sample = articles_df.groupby('newspaper_name').sample(100)"
   ]
  },
  {
   "cell_type": "code",
   "execution_count": 29,
   "metadata": {},
   "outputs": [],
   "source": [
    "filename = \"articles_combined_sample_20210305.zip\"\n",
    "fileout = os.path.join(datapath, filename)\n",
    "articles_sample.to_csv(fileout, index = False, compression = \"zip\")"
   ]
  },
  {
   "cell_type": "code",
   "execution_count": 32,
   "metadata": {},
   "outputs": [],
   "source": [
    "articles_sample2 = pd.read_csv(os.path.join(datapath, 'articles_combined_sample_20210305.zip'))"
   ]
  },
  {
   "cell_type": "code",
   "execution_count": 33,
   "metadata": {},
   "outputs": [
    {
     "data": {
      "text/html": [
       "<div>\n",
       "<style scoped>\n",
       "    .dataframe tbody tr th:only-of-type {\n",
       "        vertical-align: middle;\n",
       "    }\n",
       "\n",
       "    .dataframe tbody tr th {\n",
       "        vertical-align: top;\n",
       "    }\n",
       "\n",
       "    .dataframe thead th {\n",
       "        text-align: right;\n",
       "    }\n",
       "</style>\n",
       "<table border=\"1\" class=\"dataframe\">\n",
       "  <thead>\n",
       "    <tr style=\"text-align: right;\">\n",
       "      <th></th>\n",
       "      <th>uuid</th>\n",
       "      <th>article_accessed</th>\n",
       "      <th>newspaper_name</th>\n",
       "      <th>newspaper_frontpage_url</th>\n",
       "      <th>keywords_search</th>\n",
       "      <th>keywords_match</th>\n",
       "      <th>article_title</th>\n",
       "      <th>article_link</th>\n",
       "      <th>article_datetime</th>\n",
       "      <th>encounter_datetime</th>\n",
       "      <th>article_source</th>\n",
       "    </tr>\n",
       "  </thead>\n",
       "  <tbody>\n",
       "    <tr>\n",
       "      <th>0</th>\n",
       "      <td>4609758d-6cfc-46d3-a95e-315a309b1570</td>\n",
       "      <td>1</td>\n",
       "      <td>Berlingske</td>\n",
       "      <td>https://www.berlingske.dk/nyheder/politik/</td>\n",
       "      <td>['.*']</td>\n",
       "      <td>[]</td>\n",
       "      <td>Flere partier vil granske Rigspolitiets opkald...</td>\n",
       "      <td>https://www.berlingske.dk/politik/flere-partie...</td>\n",
       "      <td>2020-11-20 08:59:00+00:00</td>\n",
       "      <td>2020-11-20 10:28</td>\n",
       "      <td>&lt;!DOCTYPE html&gt;\\n\\n&lt;html lang=\"da\"&gt;\\n&lt;head&gt;\\n&lt;...</td>\n",
       "    </tr>\n",
       "    <tr>\n",
       "      <th>1</th>\n",
       "      <td>b8b7c862-cd6c-47f8-8883-24d34eb8fc8d</td>\n",
       "      <td>1</td>\n",
       "      <td>Berlingske</td>\n",
       "      <td>https://www.berlingske.dk/nyheder/politik/</td>\n",
       "      <td>['.*']</td>\n",
       "      <td>[]</td>\n",
       "      <td>Oppositionen er ude af forhandlinger om genåbning</td>\n",
       "      <td>https://www.berlingske.dk/politik/oppositionen...</td>\n",
       "      <td>2021-02-23 21:10:05+00:00</td>\n",
       "      <td>2021-02-23 23:13</td>\n",
       "      <td>&lt;!DOCTYPE html&gt;\\n\\n&lt;html lang=\"da\"&gt;\\n&lt;head&gt;\\n&lt;...</td>\n",
       "    </tr>\n",
       "    <tr>\n",
       "      <th>2</th>\n",
       "      <td>dc54d2ac-ffb8-4cff-9e91-53760f2f0204</td>\n",
       "      <td>1</td>\n",
       "      <td>Berlingske</td>\n",
       "      <td>https://www.berlingske.dk/nyheder/politik/</td>\n",
       "      <td>['.*']</td>\n",
       "      <td>[]</td>\n",
       "      <td>Kofod efter klimamøde med Kerry: USA er tilbag...</td>\n",
       "      <td>https://www.berlingske.dk/politik/kofod-efter-...</td>\n",
       "      <td>2021-01-22 19:07:00+00:00</td>\n",
       "      <td>2021-01-22 20:10</td>\n",
       "      <td>&lt;!DOCTYPE html&gt;\\n\\n&lt;html lang=\"da\"&gt;\\n&lt;head&gt;\\n&lt;...</td>\n",
       "    </tr>\n",
       "    <tr>\n",
       "      <th>3</th>\n",
       "      <td>3f9d0b7e-d9b5-49a5-a55f-bb5e52bc6ca2</td>\n",
       "      <td>1</td>\n",
       "      <td>Berlingske</td>\n",
       "      <td>https://www.berlingske.dk/nyheder/politik/</td>\n",
       "      <td>['.*']</td>\n",
       "      <td>[]</td>\n",
       "      <td>Så vendte Ida Auken omsider hjem til sin onkel...</td>\n",
       "      <td>https://www.berlingske.dk/analyse-og-perspekti...</td>\n",
       "      <td>2021-01-29 20:49:00+00:00</td>\n",
       "      <td>2021-01-30 00:53</td>\n",
       "      <td>&lt;!DOCTYPE html&gt;\\n\\n&lt;html lang=\"da\"&gt;\\n&lt;head&gt;\\n&lt;...</td>\n",
       "    </tr>\n",
       "    <tr>\n",
       "      <th>4</th>\n",
       "      <td>241ca7d5-a570-4ba3-934e-4a08876eec46</td>\n",
       "      <td>1</td>\n",
       "      <td>Berlingske</td>\n",
       "      <td>https://www.berlingske.dk/nyheder/politik/</td>\n",
       "      <td>['.*']</td>\n",
       "      <td>[]</td>\n",
       "      <td>Pia K: Folketing på vågeblus forsinker vigtig ...</td>\n",
       "      <td>https://www.berlingske.dk/politik/pia-k-folket...</td>\n",
       "      <td>2021-01-13 09:04:00+00:00</td>\n",
       "      <td>2021-01-13 11:17</td>\n",
       "      <td>&lt;!DOCTYPE html&gt;\\n\\n&lt;html lang=\"da\"&gt;\\n&lt;head&gt;\\n&lt;...</td>\n",
       "    </tr>\n",
       "  </tbody>\n",
       "</table>\n",
       "</div>"
      ],
      "text/plain": [
       "                                   uuid  article_accessed newspaper_name  \\\n",
       "0  4609758d-6cfc-46d3-a95e-315a309b1570                 1     Berlingske   \n",
       "1  b8b7c862-cd6c-47f8-8883-24d34eb8fc8d                 1     Berlingske   \n",
       "2  dc54d2ac-ffb8-4cff-9e91-53760f2f0204                 1     Berlingske   \n",
       "3  3f9d0b7e-d9b5-49a5-a55f-bb5e52bc6ca2                 1     Berlingske   \n",
       "4  241ca7d5-a570-4ba3-934e-4a08876eec46                 1     Berlingske   \n",
       "\n",
       "                      newspaper_frontpage_url keywords_search keywords_match  \\\n",
       "0  https://www.berlingske.dk/nyheder/politik/          ['.*']             []   \n",
       "1  https://www.berlingske.dk/nyheder/politik/          ['.*']             []   \n",
       "2  https://www.berlingske.dk/nyheder/politik/          ['.*']             []   \n",
       "3  https://www.berlingske.dk/nyheder/politik/          ['.*']             []   \n",
       "4  https://www.berlingske.dk/nyheder/politik/          ['.*']             []   \n",
       "\n",
       "                                       article_title  \\\n",
       "0  Flere partier vil granske Rigspolitiets opkald...   \n",
       "1  Oppositionen er ude af forhandlinger om genåbning   \n",
       "2  Kofod efter klimamøde med Kerry: USA er tilbag...   \n",
       "3  Så vendte Ida Auken omsider hjem til sin onkel...   \n",
       "4  Pia K: Folketing på vågeblus forsinker vigtig ...   \n",
       "\n",
       "                                        article_link  \\\n",
       "0  https://www.berlingske.dk/politik/flere-partie...   \n",
       "1  https://www.berlingske.dk/politik/oppositionen...   \n",
       "2  https://www.berlingske.dk/politik/kofod-efter-...   \n",
       "3  https://www.berlingske.dk/analyse-og-perspekti...   \n",
       "4  https://www.berlingske.dk/politik/pia-k-folket...   \n",
       "\n",
       "            article_datetime encounter_datetime  \\\n",
       "0  2020-11-20 08:59:00+00:00   2020-11-20 10:28   \n",
       "1  2021-02-23 21:10:05+00:00   2021-02-23 23:13   \n",
       "2  2021-01-22 19:07:00+00:00   2021-01-22 20:10   \n",
       "3  2021-01-29 20:49:00+00:00   2021-01-30 00:53   \n",
       "4  2021-01-13 09:04:00+00:00   2021-01-13 11:17   \n",
       "\n",
       "                                      article_source  \n",
       "0  <!DOCTYPE html>\\n\\n<html lang=\"da\">\\n<head>\\n<...  \n",
       "1  <!DOCTYPE html>\\n\\n<html lang=\"da\">\\n<head>\\n<...  \n",
       "2  <!DOCTYPE html>\\n\\n<html lang=\"da\">\\n<head>\\n<...  \n",
       "3  <!DOCTYPE html>\\n\\n<html lang=\"da\">\\n<head>\\n<...  \n",
       "4  <!DOCTYPE html>\\n\\n<html lang=\"da\">\\n<head>\\n<...  "
      ]
     },
     "execution_count": 33,
     "metadata": {},
     "output_type": "execute_result"
    }
   ],
   "source": [
    "articles_sample2.head()"
   ]
  },
  {
   "cell_type": "code",
   "execution_count": 43,
   "metadata": {},
   "outputs": [],
   "source": [
    "select_columns = ['uuid', 'article_accessed', 'newspaper_name', 'newspaper_frontpage_url', 'article_title', 'article_link', 'article_datetime', 'encounter_datetime']"
   ]
  },
  {
   "cell_type": "code",
   "execution_count": 44,
   "metadata": {},
   "outputs": [],
   "source": [
    "articles_select_df = articles_df.loc[:, select_columns]"
   ]
  },
  {
   "cell_type": "code",
   "execution_count": 47,
   "metadata": {},
   "outputs": [],
   "source": [
    "articles_select_df.to_csv('../../data/articles/articles_combined_20201201.csv')"
   ]
  }
 ],
 "metadata": {
  "kernelspec": {
   "display_name": "Python 3",
   "language": "python",
   "name": "python3"
  },
  "language_info": {
   "codemirror_mode": {
    "name": "ipython",
    "version": 3
   },
   "file_extension": ".py",
   "mimetype": "text/x-python",
   "name": "python",
   "nbconvert_exporter": "python",
   "pygments_lexer": "ipython3",
   "version": "3.7.9"
  }
 },
 "nbformat": 4,
 "nbformat_minor": 4
}
